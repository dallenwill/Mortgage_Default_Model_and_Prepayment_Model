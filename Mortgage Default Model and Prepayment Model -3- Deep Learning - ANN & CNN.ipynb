{
 "cells": [
  {
   "cell_type": "code",
   "execution_count": 1,
   "id": "214764bb",
   "metadata": {},
   "outputs": [],
   "source": [
    "import pandas as pd\n",
    "import numpy as np\n",
    "from pandas import DataFrame\n",
    "\n",
    "import matplotlib.pyplot as plt\n",
    "import seaborn as sns"
   ]
  },
  {
   "cell_type": "markdown",
   "id": "4c1a8672",
   "metadata": {},
   "source": [
    "## Part 1: Read in the data"
   ]
  },
  {
   "cell_type": "code",
   "execution_count": 2,
   "id": "b6875c74",
   "metadata": {},
   "outputs": [],
   "source": [
    "path=r'C:\\Users\\aleci\\Documents\\Project 3 - Mortgage Origination Analysis\\data\\\\'\n",
    "\n",
    "file_2020q1_OH=pd.read_csv(path+'file_2020Q1_OH.csv')\n",
    "file_2020q1_VA=pd.read_csv(path+'file_2020Q1_VA.csv')\n",
    "file_2020q1_GA=pd.read_csv(path+'file_2020Q1_GA.csv')\n",
    "file_2020q1_MI=pd.read_csv(path+'file_2020Q1_MI.csv')\n",
    "file_2020q1_CO=pd.read_csv(path+'file_2020Q1_CO.csv')"
   ]
  },
  {
   "cell_type": "code",
   "execution_count": 3,
   "id": "1339f374",
   "metadata": {},
   "outputs": [
    {
     "data": {
      "text/plain": [
       "(2071611, 108)"
      ]
     },
     "execution_count": 3,
     "metadata": {},
     "output_type": "execute_result"
    }
   ],
   "source": [
    "df=pd.concat([file_2020q1_OH, file_2020q1_VA, file_2020q1_GA, file_2020q1_MI, file_2020q1_CO])\n",
    "df.shape"
   ]
  },
  {
   "cell_type": "code",
   "execution_count": 4,
   "id": "b7c2c9f7",
   "metadata": {},
   "outputs": [
    {
     "data": {
      "text/plain": [
       "104924"
      ]
     },
     "execution_count": 4,
     "metadata": {},
     "output_type": "execute_result"
    }
   ],
   "source": [
    "df['LOAN_ID'].nunique()"
   ]
  },
  {
   "cell_type": "code",
   "execution_count": 5,
   "id": "d89912a1",
   "metadata": {},
   "outputs": [
    {
     "data": {
      "text/plain": [
       "STATE\n",
       "CO    485045\n",
       "GA    428255\n",
       "MI    479014\n",
       "OH    339552\n",
       "VA    339745\n",
       "Name: LOAN_ID, dtype: int64"
      ]
     },
     "execution_count": 5,
     "metadata": {},
     "output_type": "execute_result"
    }
   ],
   "source": [
    "df.groupby('STATE')['LOAN_ID'].count()"
   ]
  },
  {
   "cell_type": "markdown",
   "id": "069a2a35",
   "metadata": {},
   "source": [
    "## Part 2: Define 'bad'\n",
    "* We intend to apply a more stringent criterion for defining 'bad'.\n",
    "* This definition bad will be used to build a payment default model.\n",
    "* Two things to consider for defining such a variable as 'bad'?\n",
    "** The definition should be representative of bad/derogatory behavior\n",
    "** We can get enough such data points for modeling"
   ]
  },
  {
   "cell_type": "code",
   "execution_count": 6,
   "id": "7304b9a3",
   "metadata": {},
   "outputs": [
    {
     "data": {
      "text/plain": [
       "['POOL_ID',\n",
       " 'LOAN_ID',\n",
       " 'ACT_PERIOD',\n",
       " 'CHANNEL',\n",
       " 'SELLER',\n",
       " 'SERVICER',\n",
       " 'MASTER_SERVICER',\n",
       " 'ORIG_RATE',\n",
       " 'CURR_RATE',\n",
       " 'ORIG_UPB',\n",
       " 'ISSUANCE_UPB',\n",
       " 'CURRENT_UPB',\n",
       " 'ORIG_TERM',\n",
       " 'ORIG_DATE',\n",
       " 'FIRST_PAY',\n",
       " 'LOAN_AGE',\n",
       " 'REM_MONTHS',\n",
       " 'ADJ_REM_MONTHS',\n",
       " 'MATR_DT',\n",
       " 'OLTV',\n",
       " 'OCLTV',\n",
       " 'NUM_BO',\n",
       " 'DTI',\n",
       " 'CSCORE_B',\n",
       " 'CSCORE_C',\n",
       " 'FIRST_FLAG',\n",
       " 'PURPOSE',\n",
       " 'PROP',\n",
       " 'NO_UNITS',\n",
       " 'OCC_STAT',\n",
       " 'STATE',\n",
       " 'MSA',\n",
       " 'ZIP',\n",
       " 'MI_PCT',\n",
       " 'PRODUCT',\n",
       " 'PPMT_FLG',\n",
       " 'IO',\n",
       " 'FIRST_PAY_IO',\n",
       " 'MNTHS_TO_AMTZ_IO',\n",
       " 'DLQ_STATUS',\n",
       " 'PMT_HISTORY',\n",
       " 'MOD_FLAG',\n",
       " 'MI_CANCEL_FLAG',\n",
       " 'Zero_Bal_Code',\n",
       " 'ZB_DTE',\n",
       " 'LAST_UPB',\n",
       " 'RPRCH_DTE',\n",
       " 'CURR_SCHD_PRNCPL',\n",
       " 'TOT_SCHD_PRNCPL',\n",
       " 'UNSCHD_PRNCPL_CURR',\n",
       " 'LAST_PAID_INSTALLMENT_DATE',\n",
       " 'FORECLOSURE_DATE',\n",
       " 'DISPOSITION_DATE',\n",
       " 'FORECLOSURE_COSTS',\n",
       " 'PROPERTY_PRESERVATION_AND_REPAIR_COSTS',\n",
       " 'ASSET_RECOVERY_COSTS',\n",
       " 'MISCELLANEOUS_HOLDING_EXPENSES_AND_CREDITS',\n",
       " 'ASSOCIATED_TAXES_FOR_HOLDING_PROPERTY',\n",
       " 'NET_SALES_PROCEEDS',\n",
       " 'CREDIT_ENHANCEMENT_PROCEEDS',\n",
       " 'REPURCHASES_MAKE_WHOLE_PROCEEDS',\n",
       " 'OTHER_FORECLOSURE_PROCEEDS',\n",
       " 'NON_INTEREST_BEARING_UPB',\n",
       " 'PRINCIPAL_FORGIVENESS_AMOUNT',\n",
       " 'ORIGINAL_LIST_START_DATE',\n",
       " 'ORIGINAL_LIST_PRICE',\n",
       " 'CURRENT_LIST_START_DATE',\n",
       " 'CURRENT_LIST_PRICE',\n",
       " 'ISSUE_SCOREB',\n",
       " 'ISSUE_SCOREC',\n",
       " 'CURR_SCOREB',\n",
       " 'CURR_SCOREC',\n",
       " 'MI_TYPE',\n",
       " 'SERV_IND',\n",
       " 'CURRENT_PERIOD_MODIFICATION_LOSS_AMOUNT',\n",
       " 'CUMULATIVE_MODIFICATION_LOSS_AMOUNT',\n",
       " 'CURRENT_PERIOD_CREDIT_EVENT_NET_GAIN_OR_LOSS',\n",
       " 'CUMULATIVE_CREDIT_EVENT_NET_GAIN_OR_LOSS',\n",
       " 'HOMEREADY_PROGRAM_INDICATOR',\n",
       " 'FORECLOSURE_PRINCIPAL_WRITE_OFF_AMOUNT',\n",
       " 'RELOCATION_MORTGAGE_INDICATOR',\n",
       " 'ZERO_BALANCE_CODE_CHANGE_DATE',\n",
       " 'LOAN_HOLDBACK_INDICATOR',\n",
       " 'LOAN_HOLDBACK_EFFECTIVE_DATE',\n",
       " 'DELINQUENT_ACCRUED_INTEREST',\n",
       " 'PROPERTY_INSPECTION_WAIVER_INDICATOR',\n",
       " 'HIGH_BALANCE_LOAN_INDICATOR',\n",
       " 'ARM_5_YR_INDICATOR',\n",
       " 'ARM_PRODUCT_TYPE',\n",
       " 'MONTHS_UNTIL_FIRST_PAYMENT_RESET',\n",
       " 'MONTHS_BETWEEN_SUBSEQUENT_PAYMENT_RESET',\n",
       " 'INTEREST_RATE_CHANGE_DATE',\n",
       " 'PAYMENT_CHANGE_DATE',\n",
       " 'ARM_INDEX',\n",
       " 'ARM_CAP_STRUCTURE',\n",
       " 'INITIAL_INTEREST_RATE_CAP',\n",
       " 'PERIODIC_INTEREST_RATE_CAP',\n",
       " 'LIFETIME_INTEREST_RATE_CAP',\n",
       " 'MARGIN',\n",
       " 'BALLOON_INDICATOR',\n",
       " 'PLAN_NUMBER',\n",
       " 'FORBEARANCE_INDICATOR',\n",
       " 'HIGH_LOAN_TO_VALUE_HLTV_REFINANCE_OPTION_INDICATOR',\n",
       " 'DEAL_NAME',\n",
       " 'RE_PROCS_FLAG',\n",
       " 'ADR_TYPE',\n",
       " 'ADR_COUNT',\n",
       " 'ADR_UPB']"
      ]
     },
     "execution_count": 6,
     "metadata": {},
     "output_type": "execute_result"
    }
   ],
   "source": [
    "df.columns.tolist()"
   ]
  },
  {
   "cell_type": "code",
   "execution_count": 8,
   "id": "48f29f71",
   "metadata": {},
   "outputs": [
    {
     "data": {
      "text/plain": [
       "DLQ_STATUS\n",
       "0     2019379\n",
       "1       14783\n",
       "2        7204\n",
       "3        5353\n",
       "4        3983\n",
       "5        3351\n",
       "6        2724\n",
       "7        2209\n",
       "8        1934\n",
       "9        1704\n",
       "10       1510\n",
       "11       1368\n",
       "12       1146\n",
       "13        963\n",
       "14        856\n",
       "15        746\n",
       "16        617\n",
       "17        557\n",
       "18        409\n",
       "19        296\n",
       "20        250\n",
       "21        145\n",
       "22         70\n",
       "23         40\n",
       "24         14\n",
       "Name: LOAN_ID, dtype: int64"
      ]
     },
     "execution_count": 8,
     "metadata": {},
     "output_type": "execute_result"
    }
   ],
   "source": [
    "df.groupby('DLQ_STATUS')['LOAN_ID'].count()"
   ]
  },
  {
   "cell_type": "code",
   "execution_count": 9,
   "id": "8f0af6da",
   "metadata": {},
   "outputs": [],
   "source": [
    "df['bad']=np.where(df['DLQ_STATUS'] >= 6, 1, 0)\n",
    "df_bad=df.groupby('LOAN_ID')['bad'].sum().reset_index()\n",
    "df_bad['bad']=np.where(df_bad['bad'] > 0, 1, 0)"
   ]
  },
  {
   "cell_type": "code",
   "execution_count": 10,
   "id": "8f40bb26",
   "metadata": {},
   "outputs": [
    {
     "name": "stdout",
     "output_type": "stream",
     "text": [
      "0.02353131790629408\n",
      "2469\n"
     ]
    }
   ],
   "source": [
    "print(df_bad['bad'].mean())\n",
    "print(df_bad['bad'].sum())"
   ]
  },
  {
   "cell_type": "code",
   "execution_count": 11,
   "id": "ee260948",
   "metadata": {},
   "outputs": [
    {
     "name": "stdout",
     "output_type": "stream",
     "text": [
      "<class 'pandas.core.frame.DataFrame'>\n",
      "RangeIndex: 104924 entries, 0 to 104923\n",
      "Data columns (total 2 columns):\n",
      " #   Column   Non-Null Count   Dtype\n",
      "---  ------   --------------   -----\n",
      " 0   LOAN_ID  104924 non-null  int64\n",
      " 1   bad      104924 non-null  int32\n",
      "dtypes: int32(1), int64(1)\n",
      "memory usage: 1.2 MB\n"
     ]
    }
   ],
   "source": [
    "df_bad.info()"
   ]
  },
  {
   "cell_type": "code",
   "execution_count": 12,
   "id": "54c2daef",
   "metadata": {},
   "outputs": [],
   "source": [
    "df_nodup=df.drop_duplicates(subset='LOAN_ID', keep='first').reset_index()"
   ]
  },
  {
   "cell_type": "code",
   "execution_count": 13,
   "id": "853a9df0",
   "metadata": {},
   "outputs": [
    {
     "data": {
      "text/plain": [
       "['index',\n",
       " 'POOL_ID',\n",
       " 'LOAN_ID',\n",
       " 'ACT_PERIOD',\n",
       " 'CHANNEL',\n",
       " 'SELLER',\n",
       " 'SERVICER',\n",
       " 'MASTER_SERVICER',\n",
       " 'ORIG_RATE',\n",
       " 'CURR_RATE',\n",
       " 'ORIG_UPB',\n",
       " 'ISSUANCE_UPB',\n",
       " 'CURRENT_UPB',\n",
       " 'ORIG_TERM',\n",
       " 'ORIG_DATE',\n",
       " 'FIRST_PAY',\n",
       " 'LOAN_AGE',\n",
       " 'REM_MONTHS',\n",
       " 'ADJ_REM_MONTHS',\n",
       " 'MATR_DT',\n",
       " 'OLTV',\n",
       " 'OCLTV',\n",
       " 'NUM_BO',\n",
       " 'DTI',\n",
       " 'CSCORE_B',\n",
       " 'CSCORE_C',\n",
       " 'FIRST_FLAG',\n",
       " 'PURPOSE',\n",
       " 'PROP',\n",
       " 'NO_UNITS',\n",
       " 'OCC_STAT',\n",
       " 'STATE',\n",
       " 'MSA',\n",
       " 'ZIP',\n",
       " 'MI_PCT',\n",
       " 'PRODUCT',\n",
       " 'PPMT_FLG',\n",
       " 'IO',\n",
       " 'FIRST_PAY_IO',\n",
       " 'MNTHS_TO_AMTZ_IO',\n",
       " 'DLQ_STATUS',\n",
       " 'PMT_HISTORY',\n",
       " 'MOD_FLAG',\n",
       " 'MI_CANCEL_FLAG',\n",
       " 'Zero_Bal_Code',\n",
       " 'ZB_DTE',\n",
       " 'LAST_UPB',\n",
       " 'RPRCH_DTE',\n",
       " 'CURR_SCHD_PRNCPL',\n",
       " 'TOT_SCHD_PRNCPL',\n",
       " 'UNSCHD_PRNCPL_CURR',\n",
       " 'LAST_PAID_INSTALLMENT_DATE',\n",
       " 'FORECLOSURE_DATE',\n",
       " 'DISPOSITION_DATE',\n",
       " 'FORECLOSURE_COSTS',\n",
       " 'PROPERTY_PRESERVATION_AND_REPAIR_COSTS',\n",
       " 'ASSET_RECOVERY_COSTS',\n",
       " 'MISCELLANEOUS_HOLDING_EXPENSES_AND_CREDITS',\n",
       " 'ASSOCIATED_TAXES_FOR_HOLDING_PROPERTY',\n",
       " 'NET_SALES_PROCEEDS',\n",
       " 'CREDIT_ENHANCEMENT_PROCEEDS',\n",
       " 'REPURCHASES_MAKE_WHOLE_PROCEEDS',\n",
       " 'OTHER_FORECLOSURE_PROCEEDS',\n",
       " 'NON_INTEREST_BEARING_UPB',\n",
       " 'PRINCIPAL_FORGIVENESS_AMOUNT',\n",
       " 'ORIGINAL_LIST_START_DATE',\n",
       " 'ORIGINAL_LIST_PRICE',\n",
       " 'CURRENT_LIST_START_DATE',\n",
       " 'CURRENT_LIST_PRICE',\n",
       " 'ISSUE_SCOREB',\n",
       " 'ISSUE_SCOREC',\n",
       " 'CURR_SCOREB',\n",
       " 'CURR_SCOREC',\n",
       " 'MI_TYPE',\n",
       " 'SERV_IND',\n",
       " 'CURRENT_PERIOD_MODIFICATION_LOSS_AMOUNT',\n",
       " 'CUMULATIVE_MODIFICATION_LOSS_AMOUNT',\n",
       " 'CURRENT_PERIOD_CREDIT_EVENT_NET_GAIN_OR_LOSS',\n",
       " 'CUMULATIVE_CREDIT_EVENT_NET_GAIN_OR_LOSS',\n",
       " 'HOMEREADY_PROGRAM_INDICATOR',\n",
       " 'FORECLOSURE_PRINCIPAL_WRITE_OFF_AMOUNT',\n",
       " 'RELOCATION_MORTGAGE_INDICATOR',\n",
       " 'ZERO_BALANCE_CODE_CHANGE_DATE',\n",
       " 'LOAN_HOLDBACK_INDICATOR',\n",
       " 'LOAN_HOLDBACK_EFFECTIVE_DATE',\n",
       " 'DELINQUENT_ACCRUED_INTEREST',\n",
       " 'PROPERTY_INSPECTION_WAIVER_INDICATOR',\n",
       " 'HIGH_BALANCE_LOAN_INDICATOR',\n",
       " 'ARM_5_YR_INDICATOR',\n",
       " 'ARM_PRODUCT_TYPE',\n",
       " 'MONTHS_UNTIL_FIRST_PAYMENT_RESET',\n",
       " 'MONTHS_BETWEEN_SUBSEQUENT_PAYMENT_RESET',\n",
       " 'INTEREST_RATE_CHANGE_DATE',\n",
       " 'PAYMENT_CHANGE_DATE',\n",
       " 'ARM_INDEX',\n",
       " 'ARM_CAP_STRUCTURE',\n",
       " 'INITIAL_INTEREST_RATE_CAP',\n",
       " 'PERIODIC_INTEREST_RATE_CAP',\n",
       " 'LIFETIME_INTEREST_RATE_CAP',\n",
       " 'MARGIN',\n",
       " 'BALLOON_INDICATOR',\n",
       " 'PLAN_NUMBER',\n",
       " 'FORBEARANCE_INDICATOR',\n",
       " 'HIGH_LOAN_TO_VALUE_HLTV_REFINANCE_OPTION_INDICATOR',\n",
       " 'DEAL_NAME',\n",
       " 'RE_PROCS_FLAG',\n",
       " 'ADR_TYPE',\n",
       " 'ADR_COUNT',\n",
       " 'ADR_UPB',\n",
       " 'bad']"
      ]
     },
     "execution_count": 13,
     "metadata": {},
     "output_type": "execute_result"
    }
   ],
   "source": [
    "df_nodup.columns.tolist()"
   ]
  },
  {
   "cell_type": "code",
   "execution_count": 14,
   "id": "c3d7ddb1",
   "metadata": {},
   "outputs": [],
   "source": [
    "df_nodup=pd.merge(df_nodup.drop('bad', axis=1), df_bad, on='LOAN_ID', how='inner')"
   ]
  },
  {
   "cell_type": "code",
   "execution_count": 15,
   "id": "9b58613f",
   "metadata": {},
   "outputs": [
    {
     "data": {
      "text/plain": [
       "0.02353131790629408"
      ]
     },
     "execution_count": 15,
     "metadata": {},
     "output_type": "execute_result"
    }
   ],
   "source": [
    "df_nodup['bad'].mean()"
   ]
  },
  {
   "cell_type": "markdown",
   "id": "0cb7e0b0",
   "metadata": {},
   "source": [
    "## Part 3: Select variables for modeling\n",
    "* Since this is an underwriting model, we will only select those variables available at the time of origination. \n",
    "* These varibles do not change their values throughout the life of a loan. "
   ]
  },
  {
   "cell_type": "code",
   "execution_count": 66,
   "id": "0948761f",
   "metadata": {},
   "outputs": [],
   "source": [
    "def dummyvar(x):\n",
    "    x['purpose_rate_refi']=np.where(x['PURPOSE'].str.strip()=='R', 1, 0)\n",
    "    x['purpose_cashout_refi']=np.where(x['PURPOSE'].str.strip()=='C', 1, 0)\n",
    "    x['property_pud']=np.where(x['PROP'].str.strip()=='PU', 1, 0)\n",
    "    x['property_condo']=np.where(x['PROP'].str.strip()=='CO', 1, 0)\n",
    "    x['property_other']=np.where(x['PROP'].str.strip().isin(['CP', 'MH']), 1, 0)\n",
    "    x['term_30years']=np.where(x['ORIG_TERM']==360, 1, 0)\n",
    "    x['term_15years']=np.where(x['ORIG_TERM']==180, 1, 0)\n",
    "    x['mi']=np.where(x['MI_PCT'] > 0, 1, 0)\n",
    "    \n",
    "dummyvar(df_nodup)"
   ]
  },
  {
   "cell_type": "code",
   "execution_count": 67,
   "id": "90bab526",
   "metadata": {},
   "outputs": [
    {
     "data": {
      "text/html": [
       "<div>\n",
       "<style scoped>\n",
       "    .dataframe tbody tr th:only-of-type {\n",
       "        vertical-align: middle;\n",
       "    }\n",
       "\n",
       "    .dataframe tbody tr th {\n",
       "        vertical-align: top;\n",
       "    }\n",
       "\n",
       "    .dataframe thead th {\n",
       "        text-align: right;\n",
       "    }\n",
       "</style>\n",
       "<table border=\"1\" class=\"dataframe\">\n",
       "  <thead>\n",
       "    <tr style=\"text-align: right;\">\n",
       "      <th></th>\n",
       "      <th>count</th>\n",
       "      <th>mean</th>\n",
       "      <th>std</th>\n",
       "      <th>min</th>\n",
       "      <th>25%</th>\n",
       "      <th>50%</th>\n",
       "      <th>75%</th>\n",
       "      <th>max</th>\n",
       "    </tr>\n",
       "  </thead>\n",
       "  <tbody>\n",
       "    <tr>\n",
       "      <th>CSCORE_B</th>\n",
       "      <td>104873.0</td>\n",
       "      <td>7.567624e+02</td>\n",
       "      <td>42.412137</td>\n",
       "      <td>620.0</td>\n",
       "      <td>729.00</td>\n",
       "      <td>766.0</td>\n",
       "      <td>791.00</td>\n",
       "      <td>835.0</td>\n",
       "    </tr>\n",
       "    <tr>\n",
       "      <th>DTI</th>\n",
       "      <td>104922.0</td>\n",
       "      <td>3.415779e+01</td>\n",
       "      <td>9.579630</td>\n",
       "      <td>1.0</td>\n",
       "      <td>27.00</td>\n",
       "      <td>35.0</td>\n",
       "      <td>42.00</td>\n",
       "      <td>50.0</td>\n",
       "    </tr>\n",
       "    <tr>\n",
       "      <th>OLTV</th>\n",
       "      <td>104924.0</td>\n",
       "      <td>7.392929e+01</td>\n",
       "      <td>16.254267</td>\n",
       "      <td>7.0</td>\n",
       "      <td>65.00</td>\n",
       "      <td>76.0</td>\n",
       "      <td>85.00</td>\n",
       "      <td>97.0</td>\n",
       "    </tr>\n",
       "    <tr>\n",
       "      <th>ORIG_UPB</th>\n",
       "      <td>104924.0</td>\n",
       "      <td>2.537213e+05</td>\n",
       "      <td>123826.341576</td>\n",
       "      <td>10000.0</td>\n",
       "      <td>156000.00</td>\n",
       "      <td>237000.0</td>\n",
       "      <td>335000.00</td>\n",
       "      <td>800000.0</td>\n",
       "    </tr>\n",
       "    <tr>\n",
       "      <th>bad</th>\n",
       "      <td>104924.0</td>\n",
       "      <td>2.353132e-02</td>\n",
       "      <td>0.151584</td>\n",
       "      <td>0.0</td>\n",
       "      <td>0.00</td>\n",
       "      <td>0.0</td>\n",
       "      <td>0.00</td>\n",
       "      <td>1.0</td>\n",
       "    </tr>\n",
       "    <tr>\n",
       "      <th>LOAN_ID</th>\n",
       "      <td>104924.0</td>\n",
       "      <td>9.917922e+07</td>\n",
       "      <td>197019.945107</td>\n",
       "      <td>98836742.0</td>\n",
       "      <td>99009455.75</td>\n",
       "      <td>99180553.5</td>\n",
       "      <td>99349026.75</td>\n",
       "      <td>99520476.0</td>\n",
       "    </tr>\n",
       "  </tbody>\n",
       "</table>\n",
       "</div>"
      ],
      "text/plain": [
       "             count          mean            std         min          25%  \\\n",
       "CSCORE_B  104873.0  7.567624e+02      42.412137       620.0       729.00   \n",
       "DTI       104922.0  3.415779e+01       9.579630         1.0        27.00   \n",
       "OLTV      104924.0  7.392929e+01      16.254267         7.0        65.00   \n",
       "ORIG_UPB  104924.0  2.537213e+05  123826.341576     10000.0    156000.00   \n",
       "bad       104924.0  2.353132e-02       0.151584         0.0         0.00   \n",
       "LOAN_ID   104924.0  9.917922e+07  197019.945107  98836742.0  99009455.75   \n",
       "\n",
       "                 50%          75%         max  \n",
       "CSCORE_B       766.0       791.00       835.0  \n",
       "DTI             35.0        42.00        50.0  \n",
       "OLTV            76.0        85.00        97.0  \n",
       "ORIG_UPB    237000.0    335000.00    800000.0  \n",
       "bad              0.0         0.00         1.0  \n",
       "LOAN_ID   99180553.5  99349026.75  99520476.0  "
      ]
     },
     "execution_count": 67,
     "metadata": {},
     "output_type": "execute_result"
    }
   ],
   "source": [
    "columns_to_keep=['CSCORE_B', 'DTI', 'OLTV', 'ORIG_UPB', 'bad', 'LOAN_ID']\n",
    "\n",
    "df_nodup[columns_to_keep].describe().T"
   ]
  },
  {
   "cell_type": "code",
   "execution_count": 68,
   "id": "8942d04f",
   "metadata": {},
   "outputs": [
    {
     "data": {
      "text/html": [
       "<div>\n",
       "<style scoped>\n",
       "    .dataframe tbody tr th:only-of-type {\n",
       "        vertical-align: middle;\n",
       "    }\n",
       "\n",
       "    .dataframe tbody tr th {\n",
       "        vertical-align: top;\n",
       "    }\n",
       "\n",
       "    .dataframe thead th {\n",
       "        text-align: right;\n",
       "    }\n",
       "</style>\n",
       "<table border=\"1\" class=\"dataframe\">\n",
       "  <thead>\n",
       "    <tr style=\"text-align: right;\">\n",
       "      <th></th>\n",
       "      <th>count</th>\n",
       "      <th>mean</th>\n",
       "      <th>std</th>\n",
       "      <th>min</th>\n",
       "      <th>25%</th>\n",
       "      <th>50%</th>\n",
       "      <th>75%</th>\n",
       "      <th>max</th>\n",
       "    </tr>\n",
       "  </thead>\n",
       "  <tbody>\n",
       "    <tr>\n",
       "      <th>CSCORE_B</th>\n",
       "      <td>104871.0</td>\n",
       "      <td>7.567624e+02</td>\n",
       "      <td>42.412282</td>\n",
       "      <td>620.0</td>\n",
       "      <td>729.0</td>\n",
       "      <td>766.0</td>\n",
       "      <td>791.0</td>\n",
       "      <td>835.0</td>\n",
       "    </tr>\n",
       "    <tr>\n",
       "      <th>DTI</th>\n",
       "      <td>104871.0</td>\n",
       "      <td>3.416106e+01</td>\n",
       "      <td>9.578838</td>\n",
       "      <td>1.0</td>\n",
       "      <td>27.0</td>\n",
       "      <td>35.0</td>\n",
       "      <td>42.0</td>\n",
       "      <td>50.0</td>\n",
       "    </tr>\n",
       "    <tr>\n",
       "      <th>OLTV</th>\n",
       "      <td>104871.0</td>\n",
       "      <td>7.392818e+01</td>\n",
       "      <td>16.254008</td>\n",
       "      <td>7.0</td>\n",
       "      <td>65.0</td>\n",
       "      <td>76.0</td>\n",
       "      <td>85.0</td>\n",
       "      <td>97.0</td>\n",
       "    </tr>\n",
       "    <tr>\n",
       "      <th>ORIG_UPB</th>\n",
       "      <td>104871.0</td>\n",
       "      <td>2.537530e+05</td>\n",
       "      <td>123823.523399</td>\n",
       "      <td>10000.0</td>\n",
       "      <td>156000.0</td>\n",
       "      <td>237000.0</td>\n",
       "      <td>335000.0</td>\n",
       "      <td>800000.0</td>\n",
       "    </tr>\n",
       "    <tr>\n",
       "      <th>bad</th>\n",
       "      <td>104871.0</td>\n",
       "      <td>2.354321e-02</td>\n",
       "      <td>0.151622</td>\n",
       "      <td>0.0</td>\n",
       "      <td>0.0</td>\n",
       "      <td>0.0</td>\n",
       "      <td>0.0</td>\n",
       "      <td>1.0</td>\n",
       "    </tr>\n",
       "    <tr>\n",
       "      <th>LOAN_ID</th>\n",
       "      <td>104871.0</td>\n",
       "      <td>9.917920e+07</td>\n",
       "      <td>197011.330265</td>\n",
       "      <td>98836742.0</td>\n",
       "      <td>99009454.5</td>\n",
       "      <td>99180544.0</td>\n",
       "      <td>99349004.0</td>\n",
       "      <td>99520476.0</td>\n",
       "    </tr>\n",
       "  </tbody>\n",
       "</table>\n",
       "</div>"
      ],
      "text/plain": [
       "             count          mean            std         min         25%  \\\n",
       "CSCORE_B  104871.0  7.567624e+02      42.412282       620.0       729.0   \n",
       "DTI       104871.0  3.416106e+01       9.578838         1.0        27.0   \n",
       "OLTV      104871.0  7.392818e+01      16.254008         7.0        65.0   \n",
       "ORIG_UPB  104871.0  2.537530e+05  123823.523399     10000.0    156000.0   \n",
       "bad       104871.0  2.354321e-02       0.151622         0.0         0.0   \n",
       "LOAN_ID   104871.0  9.917920e+07  197011.330265  98836742.0  99009454.5   \n",
       "\n",
       "                 50%         75%         max  \n",
       "CSCORE_B       766.0       791.0       835.0  \n",
       "DTI             35.0        42.0        50.0  \n",
       "OLTV            76.0        85.0        97.0  \n",
       "ORIG_UPB    237000.0    335000.0    800000.0  \n",
       "bad              0.0         0.0         1.0  \n",
       "LOAN_ID   99180544.0  99349004.0  99520476.0  "
      ]
     },
     "execution_count": 68,
     "metadata": {},
     "output_type": "execute_result"
    }
   ],
   "source": [
    "# remove loans with no credit score or DTI\n",
    "df_sample=df_nodup[(df_nodup['CSCORE_B'] > 0) & (df_nodup['DTI'] > 0)][columns_to_keep]\n",
    "df_sample.describe().T"
   ]
  },
  {
   "cell_type": "markdown",
   "id": "260483bd",
   "metadata": {},
   "source": [
    "## Part 4: Create additional features"
   ]
  },
  {
   "cell_type": "markdown",
   "id": "d7b267e3",
   "metadata": {},
   "source": [
    "* Split the sample into a modeling sample and a validation sample"
   ]
  },
  {
   "cell_type": "code",
   "execution_count": 69,
   "id": "48d99695",
   "metadata": {},
   "outputs": [],
   "source": [
    "# create a few more variables\n",
    "df_sample['ORIG_UPB']=np.log(df_sample['ORIG_UPB'])\n",
    "df_sample['DTI_OTV']=df_sample['DTI']/df_sample['OLTV']\n",
    "df_sample['home_price']=df_sample['ORIG_UPB']/df_sample['OLTV']\n",
    "df_sample['home_price_log']=np.log(df_sample['home_price'])\n",
    "df_sample['home_price_fico']=df_sample['CSCORE_B']/df_sample['home_price_log']"
   ]
  },
  {
   "cell_type": "code",
   "execution_count": 70,
   "id": "a026d346",
   "metadata": {},
   "outputs": [],
   "source": [
    "x=df_sample.drop('bad', axis=1)\n",
    "y=df_sample['bad']"
   ]
  },
  {
   "cell_type": "code",
   "execution_count": 71,
   "id": "cd9b0246",
   "metadata": {},
   "outputs": [
    {
     "data": {
      "text/html": [
       "<div>\n",
       "<style scoped>\n",
       "    .dataframe tbody tr th:only-of-type {\n",
       "        vertical-align: middle;\n",
       "    }\n",
       "\n",
       "    .dataframe tbody tr th {\n",
       "        vertical-align: top;\n",
       "    }\n",
       "\n",
       "    .dataframe thead th {\n",
       "        text-align: right;\n",
       "    }\n",
       "</style>\n",
       "<table border=\"1\" class=\"dataframe\">\n",
       "  <thead>\n",
       "    <tr style=\"text-align: right;\">\n",
       "      <th></th>\n",
       "      <th>count</th>\n",
       "      <th>mean</th>\n",
       "      <th>std</th>\n",
       "      <th>min</th>\n",
       "      <th>25%</th>\n",
       "      <th>50%</th>\n",
       "      <th>75%</th>\n",
       "      <th>max</th>\n",
       "    </tr>\n",
       "  </thead>\n",
       "  <tbody>\n",
       "    <tr>\n",
       "      <th>CSCORE_B</th>\n",
       "      <td>104871.0</td>\n",
       "      <td>7.567624e+02</td>\n",
       "      <td>42.412282</td>\n",
       "      <td>6.200000e+02</td>\n",
       "      <td>7.290000e+02</td>\n",
       "      <td>7.660000e+02</td>\n",
       "      <td>7.910000e+02</td>\n",
       "      <td>8.350000e+02</td>\n",
       "    </tr>\n",
       "    <tr>\n",
       "      <th>DTI</th>\n",
       "      <td>104871.0</td>\n",
       "      <td>3.416106e+01</td>\n",
       "      <td>9.578838</td>\n",
       "      <td>1.000000e+00</td>\n",
       "      <td>2.700000e+01</td>\n",
       "      <td>3.500000e+01</td>\n",
       "      <td>4.200000e+01</td>\n",
       "      <td>5.000000e+01</td>\n",
       "    </tr>\n",
       "    <tr>\n",
       "      <th>OLTV</th>\n",
       "      <td>104871.0</td>\n",
       "      <td>7.392818e+01</td>\n",
       "      <td>16.254008</td>\n",
       "      <td>7.000000e+00</td>\n",
       "      <td>6.500000e+01</td>\n",
       "      <td>7.600000e+01</td>\n",
       "      <td>8.500000e+01</td>\n",
       "      <td>9.700000e+01</td>\n",
       "    </tr>\n",
       "    <tr>\n",
       "      <th>ORIG_UPB</th>\n",
       "      <td>104871.0</td>\n",
       "      <td>1.231152e+01</td>\n",
       "      <td>0.542656</td>\n",
       "      <td>9.210340e+00</td>\n",
       "      <td>1.195761e+01</td>\n",
       "      <td>1.237582e+01</td>\n",
       "      <td>1.272189e+01</td>\n",
       "      <td>1.359237e+01</td>\n",
       "    </tr>\n",
       "    <tr>\n",
       "      <th>bad</th>\n",
       "      <td>104871.0</td>\n",
       "      <td>2.354321e-02</td>\n",
       "      <td>0.151622</td>\n",
       "      <td>0.000000e+00</td>\n",
       "      <td>0.000000e+00</td>\n",
       "      <td>0.000000e+00</td>\n",
       "      <td>0.000000e+00</td>\n",
       "      <td>1.000000e+00</td>\n",
       "    </tr>\n",
       "    <tr>\n",
       "      <th>LOAN_ID</th>\n",
       "      <td>104871.0</td>\n",
       "      <td>9.917920e+07</td>\n",
       "      <td>197011.330265</td>\n",
       "      <td>9.883674e+07</td>\n",
       "      <td>9.900945e+07</td>\n",
       "      <td>9.918054e+07</td>\n",
       "      <td>9.934900e+07</td>\n",
       "      <td>9.952048e+07</td>\n",
       "    </tr>\n",
       "    <tr>\n",
       "      <th>DTI_OTV</th>\n",
       "      <td>104871.0</td>\n",
       "      <td>4.909012e-01</td>\n",
       "      <td>0.216396</td>\n",
       "      <td>1.428571e-02</td>\n",
       "      <td>3.604651e-01</td>\n",
       "      <td>4.625000e-01</td>\n",
       "      <td>5.733333e-01</td>\n",
       "      <td>6.000000e+00</td>\n",
       "    </tr>\n",
       "    <tr>\n",
       "      <th>home_price</th>\n",
       "      <td>104871.0</td>\n",
       "      <td>1.784673e-01</td>\n",
       "      <td>0.062403</td>\n",
       "      <td>1.004928e-01</td>\n",
       "      <td>1.448736e-01</td>\n",
       "      <td>1.619981e-01</td>\n",
       "      <td>1.905702e-01</td>\n",
       "      <td>1.644704e+00</td>\n",
       "    </tr>\n",
       "    <tr>\n",
       "      <th>home_price_log</th>\n",
       "      <td>104871.0</td>\n",
       "      <td>-1.762896e+00</td>\n",
       "      <td>0.259041</td>\n",
       "      <td>-2.297670e+00</td>\n",
       "      <td>-1.931894e+00</td>\n",
       "      <td>-1.820171e+00</td>\n",
       "      <td>-1.657734e+00</td>\n",
       "      <td>4.975602e-01</td>\n",
       "    </tr>\n",
       "    <tr>\n",
       "      <th>home_price_fico</th>\n",
       "      <td>104871.0</td>\n",
       "      <td>-4.479487e+02</td>\n",
       "      <td>685.871179</td>\n",
       "      <td>-1.316447e+05</td>\n",
       "      <td>-4.610079e+02</td>\n",
       "      <td>-4.192927e+02</td>\n",
       "      <td>-3.870479e+02</td>\n",
       "      <td>5.644541e+04</td>\n",
       "    </tr>\n",
       "  </tbody>\n",
       "</table>\n",
       "</div>"
      ],
      "text/plain": [
       "                    count          mean            std           min  \\\n",
       "CSCORE_B         104871.0  7.567624e+02      42.412282  6.200000e+02   \n",
       "DTI              104871.0  3.416106e+01       9.578838  1.000000e+00   \n",
       "OLTV             104871.0  7.392818e+01      16.254008  7.000000e+00   \n",
       "ORIG_UPB         104871.0  1.231152e+01       0.542656  9.210340e+00   \n",
       "bad              104871.0  2.354321e-02       0.151622  0.000000e+00   \n",
       "LOAN_ID          104871.0  9.917920e+07  197011.330265  9.883674e+07   \n",
       "DTI_OTV          104871.0  4.909012e-01       0.216396  1.428571e-02   \n",
       "home_price       104871.0  1.784673e-01       0.062403  1.004928e-01   \n",
       "home_price_log   104871.0 -1.762896e+00       0.259041 -2.297670e+00   \n",
       "home_price_fico  104871.0 -4.479487e+02     685.871179 -1.316447e+05   \n",
       "\n",
       "                          25%           50%           75%           max  \n",
       "CSCORE_B         7.290000e+02  7.660000e+02  7.910000e+02  8.350000e+02  \n",
       "DTI              2.700000e+01  3.500000e+01  4.200000e+01  5.000000e+01  \n",
       "OLTV             6.500000e+01  7.600000e+01  8.500000e+01  9.700000e+01  \n",
       "ORIG_UPB         1.195761e+01  1.237582e+01  1.272189e+01  1.359237e+01  \n",
       "bad              0.000000e+00  0.000000e+00  0.000000e+00  1.000000e+00  \n",
       "LOAN_ID          9.900945e+07  9.918054e+07  9.934900e+07  9.952048e+07  \n",
       "DTI_OTV          3.604651e-01  4.625000e-01  5.733333e-01  6.000000e+00  \n",
       "home_price       1.448736e-01  1.619981e-01  1.905702e-01  1.644704e+00  \n",
       "home_price_log  -1.931894e+00 -1.820171e+00 -1.657734e+00  4.975602e-01  \n",
       "home_price_fico -4.610079e+02 -4.192927e+02 -3.870479e+02  5.644541e+04  "
      ]
     },
     "execution_count": 71,
     "metadata": {},
     "output_type": "execute_result"
    }
   ],
   "source": [
    "df_sample.describe().T"
   ]
  },
  {
   "cell_type": "code",
   "execution_count": 72,
   "id": "26e4eb16",
   "metadata": {},
   "outputs": [
    {
     "data": {
      "text/plain": [
       "((104871, 9), (104871,))"
      ]
     },
     "execution_count": 72,
     "metadata": {},
     "output_type": "execute_result"
    }
   ],
   "source": [
    "x.shape, y.shape"
   ]
  },
  {
   "cell_type": "code",
   "execution_count": 73,
   "id": "0a6ba2f2",
   "metadata": {},
   "outputs": [],
   "source": [
    "# split the sample into train and test sets\n",
    "from sklearn.model_selection import train_test_split\n",
    "\n",
    "x_train, x_test, y_train, y_test=train_test_split(x, y, test_size=0.3, random_state=0)"
   ]
  },
  {
   "cell_type": "code",
   "execution_count": 74,
   "id": "2ca4f07b",
   "metadata": {},
   "outputs": [
    {
     "data": {
      "text/plain": [
       "((73409, 9), (31462, 9))"
      ]
     },
     "execution_count": 74,
     "metadata": {},
     "output_type": "execute_result"
    }
   ],
   "source": [
    "x_train.shape, x_test.shape"
   ]
  },
  {
   "cell_type": "code",
   "execution_count": 75,
   "id": "d84f1e3d",
   "metadata": {},
   "outputs": [],
   "source": [
    "# feature scaling\n",
    "from sklearn.preprocessing import StandardScaler\n",
    "sc=StandardScaler()\n",
    "x_train=sc.fit_transform(x_train)\n",
    "x_test=sc.transform(x_test)"
   ]
  },
  {
   "cell_type": "code",
   "execution_count": 76,
   "id": "a416c24f",
   "metadata": {},
   "outputs": [
    {
     "data": {
      "text/plain": [
       "array([[ 0.40735144, -0.54154947, -0.54802405, ..., -0.09339014,\n",
       "         0.02475415,  0.01168965],\n",
       "       [ 0.4308852 , -0.22828757,  1.29716966, ..., -0.77586048,\n",
       "        -1.06890134,  0.08747216],\n",
       "       [ 0.57208774,  0.81591873,  0.37457281, ..., -0.2535925 ,\n",
       "        -0.20551365,  0.02495213],\n",
       "       ...,\n",
       "       [ 1.16043165, -1.27249388, -0.24049176, ...,  0.11315853,\n",
       "         0.30268538, -0.03551165],\n",
       "       [-0.76933639, -1.89901766, -1.16308862, ...,  0.50417632,\n",
       "         0.77957724, -0.01728994],\n",
       "       [ 1.32516795,  0.29381558,  0.92813092, ..., -0.60434169,\n",
       "        -0.76352007,  0.04417914]])"
      ]
     },
     "execution_count": 76,
     "metadata": {},
     "output_type": "execute_result"
    }
   ],
   "source": [
    "x_train"
   ]
  },
  {
   "cell_type": "code",
   "execution_count": 77,
   "id": "1c138ca7",
   "metadata": {},
   "outputs": [],
   "source": [
    "y_train=y_train.to_numpy()\n",
    "y_test=y_test.to_numpy()"
   ]
  },
  {
   "cell_type": "code",
   "execution_count": 78,
   "id": "0c0084ba",
   "metadata": {},
   "outputs": [
    {
     "data": {
      "text/plain": [
       "((73409, 9), (31462, 9))"
      ]
     },
     "execution_count": 78,
     "metadata": {},
     "output_type": "execute_result"
    }
   ],
   "source": [
    "x_train.shape, x_test.shape"
   ]
  },
  {
   "cell_type": "code",
   "execution_count": 79,
   "id": "56b3be95",
   "metadata": {},
   "outputs": [],
   "source": [
    "# reshape the dataset\n",
    "# You must add a 3rd dimension in order to run neural network\n",
    "x_train=x_train.reshape(73409, 9, 1)\n",
    "x_test=x_test.reshape(31462, 9, 1)"
   ]
  },
  {
   "cell_type": "code",
   "execution_count": 80,
   "id": "0a81c6c9",
   "metadata": {},
   "outputs": [
    {
     "data": {
      "text/plain": [
       "((73409, 9, 1), (31462, 9, 1))"
      ]
     },
     "execution_count": 80,
     "metadata": {},
     "output_type": "execute_result"
    }
   ],
   "source": [
    "x_train.shape, x_test.shape"
   ]
  },
  {
   "cell_type": "markdown",
   "id": "9b79d0db",
   "metadata": {},
   "source": [
    "## Part 5: Artificial Neural Network (ANN)\n",
    "#### 5.1: set up the ANN model structure"
   ]
  },
  {
   "cell_type": "code",
   "execution_count": 81,
   "id": "9711e186",
   "metadata": {},
   "outputs": [
    {
     "name": "stdout",
     "output_type": "stream",
     "text": [
      "2.11.0-dev20220812\n",
      "Model: \"sequential_2\"\n",
      "_________________________________________________________________\n",
      " Layer (type)                Output Shape              Param #   \n",
      "=================================================================\n",
      " dense_5 (Dense)             (None, 9)                 90        \n",
      "                                                                 \n",
      " dense_6 (Dense)             (None, 6)                 60        \n",
      "                                                                 \n",
      " dense_7 (Dense)             (None, 1)                 7         \n",
      "                                                                 \n",
      "=================================================================\n",
      "Total params: 157\n",
      "Trainable params: 157\n",
      "Non-trainable params: 0\n",
      "_________________________________________________________________\n"
     ]
    }
   ],
   "source": [
    "import tensorflow as tf\n",
    "print(tf.__version__)\n",
    "\n",
    "model=tf.keras.models.Sequential()\n",
    "\n",
    "# set up initial input layer\n",
    "# input_dim should be the same as number of input variables\n",
    "model.add(tf.keras.layers.Dense(units=9, activation='relu', input_dim=9))\n",
    "\n",
    "# add 2nd hidden layer\n",
    "model.add(tf.keras.layers.Dense(units=6, activation='relu'))\n",
    "\n",
    "# output layer\n",
    "# units should be the same as the predicted goal. In our case, we are predicting bad, so units=1.\n",
    "model.add(tf.keras.layers.Dense(units=1, activation='sigmoid'))\n",
    "\n",
    "#compile the model\n",
    "model.compile(optimizer='adam', loss='binary_crossentropy', metrics=['accuracy'])\n",
    "model.summary()"
   ]
  },
  {
   "cell_type": "markdown",
   "id": "a9124563",
   "metadata": {},
   "source": [
    "#### 5.2: Run ANN model"
   ]
  },
  {
   "cell_type": "code",
   "execution_count": 82,
   "id": "8dbcd06c",
   "metadata": {},
   "outputs": [
    {
     "name": "stdout",
     "output_type": "stream",
     "text": [
      "Epoch 1/10\n",
      "7341/7341 [==============================] - 11s 1ms/step - loss: 0.1123 - accuracy: 0.9764\n",
      "Epoch 2/10\n",
      "7341/7341 [==============================] - 11s 1ms/step - loss: 0.1051 - accuracy: 0.9764\n",
      "Epoch 3/10\n",
      "7341/7341 [==============================] - 11s 1ms/step - loss: 0.1045 - accuracy: 0.9764\n",
      "Epoch 4/10\n",
      "7341/7341 [==============================] - 11s 2ms/step - loss: 0.1043 - accuracy: 0.9764\n",
      "Epoch 5/10\n",
      "7341/7341 [==============================] - 11s 2ms/step - loss: 0.1042 - accuracy: 0.9764\n",
      "Epoch 6/10\n",
      "7341/7341 [==============================] - 11s 1ms/step - loss: 0.1041 - accuracy: 0.9764\n",
      "Epoch 7/10\n",
      "7341/7341 [==============================] - 10s 1ms/step - loss: 0.1040 - accuracy: 0.9764\n",
      "Epoch 8/10\n",
      "7341/7341 [==============================] - 10s 1ms/step - loss: 0.1041 - accuracy: 0.9764\n",
      "Epoch 9/10\n",
      "7341/7341 [==============================] - 10s 1ms/step - loss: 0.1040 - accuracy: 0.9764\n",
      "Epoch 10/10\n",
      "7341/7341 [==============================] - 10s 1ms/step - loss: 0.1040 - accuracy: 0.9764\n"
     ]
    },
    {
     "data": {
      "text/plain": [
       "<keras.callbacks.History at 0x1f4085e7ac0>"
      ]
     },
     "execution_count": 82,
     "metadata": {},
     "output_type": "execute_result"
    }
   ],
   "source": [
    "# Epoch is the number of iterations\n",
    "model.fit(x_train, y_train, batch_size=10, epochs=10)"
   ]
  },
  {
   "cell_type": "code",
   "execution_count": 83,
   "id": "84dc55bc",
   "metadata": {},
   "outputs": [
    {
     "name": "stdout",
     "output_type": "stream",
     "text": [
      "984/984 [==============================] - 1s 1ms/step - loss: 0.1021 - accuracy: 0.9767\n"
     ]
    }
   ],
   "source": [
    "# evaluate the model\n",
    "test_loss, test_acc=model.evaluate(x_test, y_test)"
   ]
  },
  {
   "cell_type": "code",
   "execution_count": 84,
   "id": "fd08f86f",
   "metadata": {},
   "outputs": [
    {
     "name": "stdout",
     "output_type": "stream",
     "text": [
      "Test Accuracy: 0.9766702651977539\n"
     ]
    }
   ],
   "source": [
    "print(\"Test Accuracy: {}\".format(test_acc))"
   ]
  },
  {
   "cell_type": "code",
   "execution_count": 85,
   "id": "70b807aa",
   "metadata": {},
   "outputs": [
    {
     "name": "stdout",
     "output_type": "stream",
     "text": [
      "984/984 [==============================] - 1s 968us/step\n"
     ]
    }
   ],
   "source": [
    "# The following only works for tensorflow 2.6 or later.\n",
    "# for earlier version of tensorflow 2.0, use predict_classes(x_test)\n",
    "y_pred=model.predict(x_test)\n",
    "classes_y=np.argmax(y_pred, axis=1)"
   ]
  },
  {
   "cell_type": "code",
   "execution_count": 86,
   "id": "6102730d",
   "metadata": {},
   "outputs": [
    {
     "data": {
      "text/plain": [
       "array([[0.01880551],\n",
       "       [0.01953542],\n",
       "       [0.06797414],\n",
       "       ...,\n",
       "       [0.06275409],\n",
       "       [0.01244097],\n",
       "       [0.0251498 ]], dtype=float32)"
      ]
     },
     "execution_count": 86,
     "metadata": {},
     "output_type": "execute_result"
    }
   ],
   "source": [
    "y_pred"
   ]
  },
  {
   "cell_type": "code",
   "execution_count": 87,
   "id": "a441b100",
   "metadata": {},
   "outputs": [],
   "source": [
    "y_pred_df=pd.DataFrame(y_pred)\n",
    "y_pred_df.columns=['y_pred']"
   ]
  },
  {
   "cell_type": "code",
   "execution_count": 88,
   "id": "16e486c4",
   "metadata": {},
   "outputs": [],
   "source": [
    "y_test_df=pd.DataFrame(y_test)\n",
    "y_test_df.columns=['y']"
   ]
  },
  {
   "cell_type": "code",
   "execution_count": 89,
   "id": "2e7a3f84",
   "metadata": {},
   "outputs": [],
   "source": [
    "y_test_df['y_pred']=y_pred_df"
   ]
  },
  {
   "cell_type": "code",
   "execution_count": 90,
   "id": "90d3ea88",
   "metadata": {},
   "outputs": [],
   "source": [
    "num_bins=10\n",
    "\n",
    "binlabels=list(range(0, num_bins))\n",
    "\n",
    "y_test_df['score_cut']=pd.qcut(y_test_df['y_pred'], q=num_bins, labels=binlabels)"
   ]
  },
  {
   "cell_type": "code",
   "execution_count": 91,
   "id": "e907c2d0",
   "metadata": {},
   "outputs": [],
   "source": [
    "# make a copy of the scoring result to a comparison with CNN model later\n",
    "y_test_df_ann=y_test_df.copy()"
   ]
  },
  {
   "cell_type": "code",
   "execution_count": 92,
   "id": "22fd5bc6",
   "metadata": {},
   "outputs": [
    {
     "name": "stderr",
     "output_type": "stream",
     "text": [
      "C:\\Users\\aleci\\anaconda3\\lib\\site-packages\\seaborn\\_decorators.py:36: FutureWarning: Pass the following variables as keyword args: x, y. From version 0.12, the only valid positional argument will be `data`, and passing other arguments without an explicit keyword will result in an error or misinterpretation.\n",
      "  warnings.warn(\n"
     ]
    },
    {
     "data": {
      "text/plain": [
       "<AxesSubplot:xlabel='score_cut', ylabel='y'>"
      ]
     },
     "execution_count": 92,
     "metadata": {},
     "output_type": "execute_result"
    },
    {
     "data": {
      "image/png": "[encoded data removed]",
      "text/plain": [
       "<Figure size 864x360 with 1 Axes>"
      ]
     },
     "metadata": {
      "needs_background": "light"
     },
     "output_type": "display_data"
    }
   ],
   "source": [
    "fig=plt.figure(figsize=(12, 5))\n",
    "\n",
    "y_test_df_sum=y_test_df.groupby('score_cut')[['y_pred', 'y']].mean().reset_index()\n",
    "y_test_df_sum['score_cut']=y_test_df_sum['score_cut'].astype(int)\n",
    "y_test_df_sum['score_cut']=num_bins-y_test_df_sum['score_cut']\n",
    "\n",
    "sns.barplot(y_test_df_sum['score_cut'], y_test_df_sum['y'])"
   ]
  },
  {
   "cell_type": "code",
   "execution_count": 93,
   "id": "eb50ad14",
   "metadata": {},
   "outputs": [
    {
     "data": {
      "text/plain": [
       "Text(0, 0.5, 'Predicted/Actual')"
      ]
     },
     "execution_count": 93,
     "metadata": {},
     "output_type": "execute_result"
    },
    {
     "data": {
      "image/png": "[encoded data removed]",
      "text/plain": [
       "<Figure size 432x360 with 1 Axes>"
      ]
     },
     "metadata": {
      "needs_background": "light"
     },
     "output_type": "display_data"
    }
   ],
   "source": [
    "fig, ax=plt.subplots(1, 1, figsize=(6, 5))\n",
    "\n",
    "ax.plot(y_test_df_sum['score_cut'], y_test_df_sum['y_pred'], label='Predicted', color='red')\n",
    "ax.plot(y_test_df_sum['score_cut'], y_test_df_sum['y'], label='Actual', color='blue')\n",
    "ax.set_title('Predicted vs Actual')\n",
    "ax.legend(loc='upper right')\n",
    "ax.set_xlabel('Score Bin')\n",
    "ax.set_ylabel('Predicted/Actual')"
   ]
  },
  {
   "cell_type": "markdown",
   "id": "1142cc1c",
   "metadata": {},
   "source": [
    "### Part 6: Convoluted Neural Network (CNN)\n",
    "#### 6.1: Set up the CNN model structure"
   ]
  },
  {
   "cell_type": "code",
   "execution_count": 94,
   "id": "051a35d8",
   "metadata": {},
   "outputs": [],
   "source": [
    "# define an object for the model\n",
    "model=tf.keras.models.Sequential()"
   ]
  },
  {
   "cell_type": "code",
   "execution_count": 95,
   "id": "4d99dfae",
   "metadata": {},
   "outputs": [],
   "source": [
    "# 1st CNN layer\n",
    "# input shape should correpond to number of input variables\n",
    "model.add(tf.keras.layers.Conv1D(filters=32, kernel_size=2, padding='same', activation='relu', input_shape=(9, 1)))\n",
    "\n",
    "# batch normalization \n",
    "model.add(tf.keras.layers.BatchNormalization())\n",
    "\n",
    "# maxpool layer\n",
    "model.add(tf.keras.layers.MaxPool1D(pool_size=2))\n",
    "\n",
    "# dropout layer\n",
    "# This layer deliberately exclude some data so that the model will not overfit\n",
    "# Usually select 0.2-0.5 as the dropout rate\n",
    "model.add(tf.keras.layers.Dropout(0.2))\n",
    "\n",
    "# 2nd CNN layer\n",
    "model.add(tf.keras.layers.Conv1D(filters=64, kernel_size=2, padding='same', activation='relu'))\n",
    "\n",
    "# batch normalization \n",
    "model.add(tf.keras.layers.BatchNormalization())\n",
    "\n",
    "# maxpool layer\n",
    "model.add(tf.keras.layers.MaxPool1D(pool_size=2))\n",
    "\n",
    "# dropout layer\n",
    "model.add(tf.keras.layers.Dropout(0.3))"
   ]
  },
  {
   "cell_type": "code",
   "execution_count": 96,
   "id": "ce556697",
   "metadata": {},
   "outputs": [],
   "source": [
    "# flatten layer\n",
    "model.add(tf.keras.layers.Flatten())"
   ]
  },
  {
   "cell_type": "code",
   "execution_count": 97,
   "id": "b0c9af8c",
   "metadata": {},
   "outputs": [],
   "source": [
    "# first dense layer\n",
    "model.add(tf.keras.layers.Dense(units=64, activation='relu'))\n",
    "\n",
    "# dropout layer\n",
    "model.add(tf.keras.layers.Dropout(0.3))"
   ]
  },
  {
   "cell_type": "code",
   "execution_count": 98,
   "id": "9b9c4b7a",
   "metadata": {},
   "outputs": [],
   "source": [
    "# output layer\n",
    "model.add(tf.keras.layers.Dense(units=1, activation='sigmoid'))"
   ]
  },
  {
   "cell_type": "code",
   "execution_count": 99,
   "id": "343c0d36",
   "metadata": {},
   "outputs": [
    {
     "name": "stdout",
     "output_type": "stream",
     "text": [
      "Model: \"sequential_3\"\n",
      "_________________________________________________________________\n",
      " Layer (type)                Output Shape              Param #   \n",
      "=================================================================\n",
      " conv1d_2 (Conv1D)           (None, 9, 32)             96        \n",
      "                                                                 \n",
      " batch_normalization_2 (Batc  (None, 9, 32)            128       \n",
      " hNormalization)                                                 \n",
      "                                                                 \n",
      " max_pooling1d_2 (MaxPooling  (None, 4, 32)            0         \n",
      " 1D)                                                             \n",
      "                                                                 \n",
      " dropout_3 (Dropout)         (None, 4, 32)             0         \n",
      "                                                                 \n",
      " conv1d_3 (Conv1D)           (None, 4, 64)             4160      \n",
      "                                                                 \n",
      " batch_normalization_3 (Batc  (None, 4, 64)            256       \n",
      " hNormalization)                                                 \n",
      "                                                                 \n",
      " max_pooling1d_3 (MaxPooling  (None, 2, 64)            0         \n",
      " 1D)                                                             \n",
      "                                                                 \n",
      " dropout_4 (Dropout)         (None, 2, 64)             0         \n",
      "                                                                 \n",
      " flatten_1 (Flatten)         (None, 128)               0         \n",
      "                                                                 \n",
      " dense_8 (Dense)             (None, 64)                8256      \n",
      "                                                                 \n",
      " dropout_5 (Dropout)         (None, 64)                0         \n",
      "                                                                 \n",
      " dense_9 (Dense)             (None, 1)                 65        \n",
      "                                                                 \n",
      "=================================================================\n",
      "Total params: 12,961\n",
      "Trainable params: 12,769\n",
      "Non-trainable params: 192\n",
      "_________________________________________________________________\n"
     ]
    }
   ],
   "source": [
    "model.summary()"
   ]
  },
  {
   "cell_type": "code",
   "execution_count": 100,
   "id": "1dc3e1fa",
   "metadata": {},
   "outputs": [],
   "source": [
    "# learning rate is one of hyperparameters\n",
    "opt=tf.keras.optimizers.Adam(learning_rate=0.0001)"
   ]
  },
  {
   "cell_type": "code",
   "execution_count": 101,
   "id": "901591cb",
   "metadata": {},
   "outputs": [],
   "source": [
    "# compile the CNN model\n",
    "model.compile(optimizer=opt, loss='binary_crossentropy', metrics=['accuracy'])"
   ]
  },
  {
   "cell_type": "markdown",
   "id": "f00c8226",
   "metadata": {},
   "source": [
    "#### 6.2: Run CNN model"
   ]
  },
  {
   "cell_type": "code",
   "execution_count": 115,
   "id": "4c05a002",
   "metadata": {},
   "outputs": [
    {
     "name": "stdout",
     "output_type": "stream",
     "text": [
      "Epoch 1/25\n",
      "2295/2295 [==============================] - 8s 4ms/step - loss: 0.1074 - accuracy: 0.9764 - val_loss: 0.1051 - val_accuracy: 0.9767\n",
      "Epoch 2/25\n",
      "2295/2295 [==============================] - 8s 4ms/step - loss: 0.1069 - accuracy: 0.9764 - val_loss: 0.1038 - val_accuracy: 0.9767\n",
      "Epoch 3/25\n",
      "2295/2295 [==============================] - 8s 4ms/step - loss: 0.1075 - accuracy: 0.9764 - val_loss: 0.1053 - val_accuracy: 0.9767\n",
      "Epoch 4/25\n",
      "2295/2295 [==============================] - 8s 4ms/step - loss: 0.1074 - accuracy: 0.9764 - val_loss: 0.1036 - val_accuracy: 0.9767\n",
      "Epoch 5/25\n",
      "2295/2295 [==============================] - 8s 4ms/step - loss: 0.1070 - accuracy: 0.9764 - val_loss: 0.1032 - val_accuracy: 0.9767\n",
      "Epoch 6/25\n",
      "2295/2295 [==============================] - 8s 4ms/step - loss: 0.1073 - accuracy: 0.9764 - val_loss: 0.1039 - val_accuracy: 0.9767\n",
      "Epoch 7/25\n",
      "2295/2295 [==============================] - 8s 4ms/step - loss: 0.1067 - accuracy: 0.9764 - val_loss: 0.1046 - val_accuracy: 0.9767\n",
      "Epoch 8/25\n",
      "2295/2295 [==============================] - 9s 4ms/step - loss: 0.1074 - accuracy: 0.9764 - val_loss: 0.1041 - val_accuracy: 0.9767\n",
      "Epoch 9/25\n",
      "2295/2295 [==============================] - 8s 4ms/step - loss: 0.1067 - accuracy: 0.9764 - val_loss: 0.1038 - val_accuracy: 0.9767\n",
      "Epoch 10/25\n",
      "2295/2295 [==============================] - 8s 4ms/step - loss: 0.1069 - accuracy: 0.9764 - val_loss: 0.1033 - val_accuracy: 0.9767\n",
      "Epoch 11/25\n",
      "2295/2295 [==============================] - 9s 4ms/step - loss: 0.1064 - accuracy: 0.9764 - val_loss: 0.1035 - val_accuracy: 0.9767\n",
      "Epoch 12/25\n",
      "2295/2295 [==============================] - 8s 4ms/step - loss: 0.1066 - accuracy: 0.9764 - val_loss: 0.1030 - val_accuracy: 0.9767\n",
      "Epoch 13/25\n",
      "2295/2295 [==============================] - 8s 4ms/step - loss: 0.1068 - accuracy: 0.9764 - val_loss: 0.1032 - val_accuracy: 0.9767\n",
      "Epoch 14/25\n",
      "2295/2295 [==============================] - 8s 4ms/step - loss: 0.1065 - accuracy: 0.9764 - val_loss: 0.1030 - val_accuracy: 0.9767\n",
      "Epoch 15/25\n",
      "2295/2295 [==============================] - 8s 4ms/step - loss: 0.1065 - accuracy: 0.9764 - val_loss: 0.1038 - val_accuracy: 0.9767\n",
      "Epoch 16/25\n",
      "2295/2295 [==============================] - 9s 4ms/step - loss: 0.1064 - accuracy: 0.9764 - val_loss: 0.1032 - val_accuracy: 0.9767\n",
      "Epoch 17/25\n",
      "2295/2295 [==============================] - 8s 4ms/step - loss: 0.1063 - accuracy: 0.9764 - val_loss: 0.1030 - val_accuracy: 0.9767\n",
      "Epoch 18/25\n",
      "2295/2295 [==============================] - 9s 4ms/step - loss: 0.1060 - accuracy: 0.9764 - val_loss: 0.1039 - val_accuracy: 0.9767\n",
      "Epoch 19/25\n",
      "2295/2295 [==============================] - 8s 4ms/step - loss: 0.1062 - accuracy: 0.9764 - val_loss: 0.1026 - val_accuracy: 0.9767\n",
      "Epoch 20/25\n",
      "2295/2295 [==============================] - 9s 4ms/step - loss: 0.1063 - accuracy: 0.9764 - val_loss: 0.1037 - val_accuracy: 0.9767\n",
      "Epoch 21/25\n",
      "2295/2295 [==============================] - 8s 4ms/step - loss: 0.1063 - accuracy: 0.9764 - val_loss: 0.1026 - val_accuracy: 0.9767\n",
      "Epoch 22/25\n",
      "2295/2295 [==============================] - 8s 4ms/step - loss: 0.1065 - accuracy: 0.9764 - val_loss: 0.1034 - val_accuracy: 0.9767\n",
      "Epoch 23/25\n",
      "2295/2295 [==============================] - 9s 4ms/step - loss: 0.1060 - accuracy: 0.9764 - val_loss: 0.1029 - val_accuracy: 0.9767\n",
      "Epoch 24/25\n",
      "2295/2295 [==============================] - 9s 4ms/step - loss: 0.1063 - accuracy: 0.9764 - val_loss: 0.1034 - val_accuracy: 0.9767\n",
      "Epoch 25/25\n",
      "2295/2295 [==============================] - 9s 4ms/step - loss: 0.1061 - accuracy: 0.9764 - val_loss: 0.1028 - val_accuracy: 0.9767\n"
     ]
    }
   ],
   "source": [
    "history=model.fit(x_train, y_train, epochs=25, validation_data=(x_test, y_test))"
   ]
  },
  {
   "cell_type": "code",
   "execution_count": 116,
   "id": "7478ee00",
   "metadata": {},
   "outputs": [
    {
     "name": "stdout",
     "output_type": "stream",
     "text": [
      "984/984 [==============================] - 1s 1ms/step\n"
     ]
    }
   ],
   "source": [
    "# model predictions\n",
    "y_pred=model.predict(x_test)\n",
    "classes_y=np.argmax(y_pred, axis=1)"
   ]
  },
  {
   "cell_type": "code",
   "execution_count": 117,
   "id": "d82f058b",
   "metadata": {},
   "outputs": [
    {
     "name": "stdout",
     "output_type": "stream",
     "text": [
      "[[30728     0]\n",
      " [  734     0]]\n"
     ]
    }
   ],
   "source": [
    "from sklearn.metrics import confusion_matrix, accuracy_score\n",
    "cm=confusion_matrix(y_test, classes_y)\n",
    "print(cm)"
   ]
  },
  {
   "cell_type": "code",
   "execution_count": 118,
   "id": "56d4b96c",
   "metadata": {},
   "outputs": [
    {
     "name": "stdout",
     "output_type": "stream",
     "text": [
      "0.9766702688958108\n"
     ]
    }
   ],
   "source": [
    "acc_cm=accuracy_score(y_test, classes_y)\n",
    "print(acc_cm)"
   ]
  },
  {
   "cell_type": "code",
   "execution_count": 119,
   "id": "d439c639",
   "metadata": {},
   "outputs": [],
   "source": [
    "# Learning curve\n",
    "def learning_curve(history, epoch):\n",
    "    # training vs validation accuracy\n",
    "    epoch_range=range(1, epoch+1)\n",
    "    plt.plot(epoch_range, history.history['accuracy'])\n",
    "    plt.plot(epoch_range, history.history['val_accuracy'])\n",
    "    plt.title('Model Accuracy')\n",
    "    plt.ylabel('Accuracy')\n",
    "    plt.xlabel('Epoch')\n",
    "    plt.legend(['Training', 'Validation'], loc='lower right')\n",
    "    plt.show()\n",
    "    \n",
    "\n",
    "    # training vs validation loss\n",
    "    epoch_range=range(1, epoch+1)\n",
    "    plt.plot(epoch_range, history.history['loss'])\n",
    "    plt.plot(epoch_range, history.history['val_loss'])\n",
    "    plt.title('LOss')\n",
    "    plt.ylabel('Loss')\n",
    "    plt.xlabel('Epoch')\n",
    "    plt.legend(['Training', 'Validation'], loc='upper left')\n",
    "    plt.show()"
   ]
  },
  {
   "cell_type": "code",
   "execution_count": 120,
   "id": "750a15c0",
   "metadata": {},
   "outputs": [
    {
     "data": {
      "image/png": "[encoded data removed]",
      "text/plain": [
       "<Figure size 432x288 with 1 Axes>"
      ]
     },
     "metadata": {
      "needs_background": "light"
     },
     "output_type": "display_data"
    },
    {
     "data": {
      "image/png": "[encoded data removed]",
      "text/plain": [
       "<Figure size 432x288 with 1 Axes>"
      ]
     },
     "metadata": {
      "needs_background": "light"
     },
     "output_type": "display_data"
    }
   ],
   "source": [
    "learning_curve(history, 25)"
   ]
  },
  {
   "cell_type": "code",
   "execution_count": 121,
   "id": "306e0347",
   "metadata": {},
   "outputs": [],
   "source": [
    "y_pred_df=pd.DataFrame(y_pred)\n",
    "y_pred_df.columns=['y_pred']"
   ]
  },
  {
   "cell_type": "code",
   "execution_count": 122,
   "id": "46c4c9b4",
   "metadata": {},
   "outputs": [],
   "source": [
    "y_test_df=pd.DataFrame(y_test)\n",
    "y_test_df.columns=['y']"
   ]
  },
  {
   "cell_type": "code",
   "execution_count": 123,
   "id": "ba3a4dfb",
   "metadata": {},
   "outputs": [],
   "source": [
    "y_test_df['y_pred']=y_pred_df"
   ]
  },
  {
   "cell_type": "code",
   "execution_count": 124,
   "id": "ebb85b0a",
   "metadata": {},
   "outputs": [
    {
     "name": "stdout",
     "output_type": "stream",
     "text": [
      "<class 'pandas.core.frame.DataFrame'>\n",
      "RangeIndex: 31462 entries, 0 to 31461\n",
      "Data columns (total 2 columns):\n",
      " #   Column  Non-Null Count  Dtype  \n",
      "---  ------  --------------  -----  \n",
      " 0   y       31462 non-null  int32  \n",
      " 1   y_pred  31462 non-null  float32\n",
      "dtypes: float32(1), int32(1)\n",
      "memory usage: 245.9 KB\n"
     ]
    }
   ],
   "source": [
    "y_test_df.info()"
   ]
  },
  {
   "cell_type": "code",
   "execution_count": 125,
   "id": "68ce3a67",
   "metadata": {},
   "outputs": [],
   "source": [
    "num_bins=10\n",
    "\n",
    "binlabels=list(range(0, num_bins))\n",
    "\n",
    "y_test_df['score_cut']=pd.qcut(y_test_df['y_pred'], q=num_bins, labels=binlabels)"
   ]
  },
  {
   "cell_type": "code",
   "execution_count": 126,
   "id": "16aed274",
   "metadata": {},
   "outputs": [
    {
     "name": "stderr",
     "output_type": "stream",
     "text": [
      "C:\\Users\\aleci\\anaconda3\\lib\\site-packages\\seaborn\\_decorators.py:36: FutureWarning: Pass the following variables as keyword args: x, y. From version 0.12, the only valid positional argument will be `data`, and passing other arguments without an explicit keyword will result in an error or misinterpretation.\n",
      "  warnings.warn(\n"
     ]
    },
    {
     "data": {
      "text/plain": [
       "<AxesSubplot:xlabel='score_cut', ylabel='y'>"
      ]
     },
     "execution_count": 126,
     "metadata": {},
     "output_type": "execute_result"
    },
    {
     "data": {
      "image/png": "[encoded data removed]",
      "text/plain": [
       "<Figure size 864x360 with 1 Axes>"
      ]
     },
     "metadata": {
      "needs_background": "light"
     },
     "output_type": "display_data"
    }
   ],
   "source": [
    "fig=plt.figure(figsize=(12, 5))\n",
    "\n",
    "y_test_df_sum=y_test_df.groupby('score_cut')[['y_pred', 'y']].mean().reset_index()\n",
    "y_test_df_sum['score_cut']=y_test_df_sum['score_cut'].astype(int)\n",
    "y_test_df_sum['score_cut']=num_bins-y_test_df_sum['score_cut']\n",
    "\n",
    "sns.barplot(y_test_df_sum['score_cut'], y_test_df_sum['y'])"
   ]
  },
  {
   "cell_type": "code",
   "execution_count": 127,
   "id": "50bf4dfc",
   "metadata": {},
   "outputs": [
    {
     "data": {
      "text/plain": [
       "Text(0, 0.5, 'Predicted/Actual')"
      ]
     },
     "execution_count": 127,
     "metadata": {},
     "output_type": "execute_result"
    },
    {
     "data": {
      "image/png": "[encoded data removed]",
      "text/plain": [
       "<Figure size 432x360 with 1 Axes>"
      ]
     },
     "metadata": {
      "needs_background": "light"
     },
     "output_type": "display_data"
    }
   ],
   "source": [
    "fig, ax=plt.subplots(1, 1, figsize=(6, 5))\n",
    "\n",
    "ax.plot(y_test_df_sum['score_cut'], y_test_df_sum['y_pred'], label='Predicted', color='red')\n",
    "ax.plot(y_test_df_sum['score_cut'], y_test_df_sum['y'], label='Actual', color='blue')\n",
    "ax.set_title('Predicted vs Actual')\n",
    "ax.legend(loc='upper right')\n",
    "ax.set_xlabel('Score Bin')\n",
    "ax.set_ylabel('Predicted/Actual')"
   ]
  },
  {
   "cell_type": "code",
   "execution_count": 128,
   "id": "a9dcb599",
   "metadata": {},
   "outputs": [],
   "source": [
    "y_test_df_cnn=y_test_df.copy()"
   ]
  },
  {
   "cell_type": "markdown",
   "id": "8808473e",
   "metadata": {},
   "source": [
    "## Part 7: combine two models"
   ]
  },
  {
   "cell_type": "code",
   "execution_count": 129,
   "id": "1ceb2a95",
   "metadata": {},
   "outputs": [
    {
     "name": "stdout",
     "output_type": "stream",
     "text": [
      "<class 'pandas.core.frame.DataFrame'>\n",
      "RangeIndex: 31462 entries, 0 to 31461\n",
      "Data columns (total 3 columns):\n",
      " #   Column     Non-Null Count  Dtype   \n",
      "---  ------     --------------  -----   \n",
      " 0   y          31462 non-null  int32   \n",
      " 1   y_pred     31462 non-null  float32 \n",
      " 2   score_cut  31462 non-null  category\n",
      "dtypes: category(1), float32(1), int32(1)\n",
      "memory usage: 277.0 KB\n"
     ]
    }
   ],
   "source": [
    "y_test_df_cnn.info()"
   ]
  },
  {
   "cell_type": "code",
   "execution_count": 130,
   "id": "8b07875d",
   "metadata": {},
   "outputs": [
    {
     "name": "stdout",
     "output_type": "stream",
     "text": [
      "<class 'pandas.core.frame.DataFrame'>\n",
      "RangeIndex: 31462 entries, 0 to 31461\n",
      "Data columns (total 3 columns):\n",
      " #   Column     Non-Null Count  Dtype   \n",
      "---  ------     --------------  -----   \n",
      " 0   y          31462 non-null  int32   \n",
      " 1   y_pred     31462 non-null  float32 \n",
      " 2   score_cut  31462 non-null  category\n",
      "dtypes: category(1), float32(1), int32(1)\n",
      "memory usage: 277.0 KB\n"
     ]
    }
   ],
   "source": [
    "y_test_df_ann.info()"
   ]
  },
  {
   "cell_type": "code",
   "execution_count": 156,
   "id": "3727c74e",
   "metadata": {},
   "outputs": [],
   "source": [
    "y_test_combined=pd.concat([y_test_df_ann.rename(columns={'y':'y_ann', 'y_pred': 'y_pred_ann', 'score_cut':'score_cut_ann'}),\n",
    "                          y_test_df_cnn.rename(columns={'y':'y_cnn', 'y_pred': 'y_pred_cnn', 'score_cut':'score_cut_cnn'})],\n",
    "                         axis=1)"
   ]
  },
  {
   "cell_type": "code",
   "execution_count": 157,
   "id": "580f6107",
   "metadata": {},
   "outputs": [
    {
     "data": {
      "text/plain": [
       "[<matplotlib.lines.Line2D at 0x1f429d57970>]"
      ]
     },
     "execution_count": 157,
     "metadata": {},
     "output_type": "execute_result"
    },
    {
     "data": {
      "image/png": "[encoded data removed]",
      "text/plain": [
       "<Figure size 432x288 with 1 Axes>"
      ]
     },
     "metadata": {
      "needs_background": "light"
     },
     "output_type": "display_data"
    }
   ],
   "source": [
    "plt.plot(y_test_combined['y_pred_ann'], y_test_combined['y_pred_cnn'], 'o', color='blue')"
   ]
  },
  {
   "cell_type": "code",
   "execution_count": 158,
   "id": "e4079621",
   "metadata": {},
   "outputs": [
    {
     "data": {
      "text/plain": [
       "[<matplotlib.lines.Line2D at 0x1f429dcb370>]"
      ]
     },
     "execution_count": 158,
     "metadata": {},
     "output_type": "execute_result"
    },
    {
     "data": {
      "image/png": "[encoded data removed]",
      "text/plain": [
       "<Figure size 432x288 with 1 Axes>"
      ]
     },
     "metadata": {
      "needs_background": "light"
     },
     "output_type": "display_data"
    }
   ],
   "source": [
    "# check consistency of the order of y in both ANN sample and CNN sample\n",
    "plt.plot(y_test_combined['y_ann'], y_test_combined['y_cnn'], 'o', color='blue')"
   ]
  },
  {
   "cell_type": "code",
   "execution_count": 159,
   "id": "b27e57b3",
   "metadata": {},
   "outputs": [
    {
     "data": {
      "text/plain": [
       "array([[1.        , 0.93353116],\n",
       "       [0.93353116, 1.        ]])"
      ]
     },
     "execution_count": 159,
     "metadata": {},
     "output_type": "execute_result"
    }
   ],
   "source": [
    "np.corrcoef(y_test_combined['y_pred_ann'], y_test_combined['y_pred_cnn'])"
   ]
  },
  {
   "cell_type": "code",
   "execution_count": 160,
   "id": "6d732459",
   "metadata": {},
   "outputs": [
    {
     "data": {
      "text/html": [
       "<div>\n",
       "<style scoped>\n",
       "    .dataframe tbody tr th:only-of-type {\n",
       "        vertical-align: middle;\n",
       "    }\n",
       "\n",
       "    .dataframe tbody tr th {\n",
       "        vertical-align: top;\n",
       "    }\n",
       "\n",
       "    .dataframe thead th {\n",
       "        text-align: right;\n",
       "    }\n",
       "</style>\n",
       "<table border=\"1\" class=\"dataframe\">\n",
       "  <thead>\n",
       "    <tr style=\"text-align: right;\">\n",
       "      <th>score_cut_cnn</th>\n",
       "      <th>0</th>\n",
       "      <th>1</th>\n",
       "      <th>2</th>\n",
       "      <th>3</th>\n",
       "      <th>4</th>\n",
       "      <th>5</th>\n",
       "      <th>6</th>\n",
       "      <th>7</th>\n",
       "      <th>8</th>\n",
       "      <th>9</th>\n",
       "    </tr>\n",
       "    <tr>\n",
       "      <th>score_cut_ann</th>\n",
       "      <th></th>\n",
       "      <th></th>\n",
       "      <th></th>\n",
       "      <th></th>\n",
       "      <th></th>\n",
       "      <th></th>\n",
       "      <th></th>\n",
       "      <th></th>\n",
       "      <th></th>\n",
       "      <th></th>\n",
       "    </tr>\n",
       "  </thead>\n",
       "  <tbody>\n",
       "    <tr>\n",
       "      <th>0</th>\n",
       "      <td>0.001200</td>\n",
       "      <td>0.002972</td>\n",
       "      <td>0.000000</td>\n",
       "      <td>0.004132</td>\n",
       "      <td>0.000000</td>\n",
       "      <td>0.000000</td>\n",
       "      <td>0.000000</td>\n",
       "      <td>0.250000</td>\n",
       "      <td>NaN</td>\n",
       "      <td>NaN</td>\n",
       "    </tr>\n",
       "    <tr>\n",
       "      <th>1</th>\n",
       "      <td>0.007617</td>\n",
       "      <td>0.003956</td>\n",
       "      <td>0.006678</td>\n",
       "      <td>0.002865</td>\n",
       "      <td>0.006289</td>\n",
       "      <td>0.000000</td>\n",
       "      <td>0.000000</td>\n",
       "      <td>0.000000</td>\n",
       "      <td>NaN</td>\n",
       "      <td>NaN</td>\n",
       "    </tr>\n",
       "    <tr>\n",
       "      <th>2</th>\n",
       "      <td>0.004640</td>\n",
       "      <td>0.005959</td>\n",
       "      <td>0.007444</td>\n",
       "      <td>0.012069</td>\n",
       "      <td>0.015974</td>\n",
       "      <td>0.000000</td>\n",
       "      <td>0.000000</td>\n",
       "      <td>0.047619</td>\n",
       "      <td>0.000000</td>\n",
       "      <td>NaN</td>\n",
       "    </tr>\n",
       "    <tr>\n",
       "      <th>3</th>\n",
       "      <td>0.028302</td>\n",
       "      <td>0.008869</td>\n",
       "      <td>0.009780</td>\n",
       "      <td>0.011749</td>\n",
       "      <td>0.008865</td>\n",
       "      <td>0.010563</td>\n",
       "      <td>0.000000</td>\n",
       "      <td>0.000000</td>\n",
       "      <td>0.000000</td>\n",
       "      <td>0.000000</td>\n",
       "    </tr>\n",
       "    <tr>\n",
       "      <th>4</th>\n",
       "      <td>0.000000</td>\n",
       "      <td>0.000000</td>\n",
       "      <td>0.009524</td>\n",
       "      <td>0.011796</td>\n",
       "      <td>0.012255</td>\n",
       "      <td>0.016611</td>\n",
       "      <td>0.015504</td>\n",
       "      <td>0.026316</td>\n",
       "      <td>0.035714</td>\n",
       "      <td>0.000000</td>\n",
       "    </tr>\n",
       "    <tr>\n",
       "      <th>5</th>\n",
       "      <td>0.000000</td>\n",
       "      <td>0.000000</td>\n",
       "      <td>0.015038</td>\n",
       "      <td>0.011050</td>\n",
       "      <td>0.016497</td>\n",
       "      <td>0.015234</td>\n",
       "      <td>0.012841</td>\n",
       "      <td>0.017937</td>\n",
       "      <td>0.031746</td>\n",
       "      <td>0.058824</td>\n",
       "    </tr>\n",
       "    <tr>\n",
       "      <th>6</th>\n",
       "      <td>NaN</td>\n",
       "      <td>NaN</td>\n",
       "      <td>0.000000</td>\n",
       "      <td>0.024096</td>\n",
       "      <td>0.022654</td>\n",
       "      <td>0.015476</td>\n",
       "      <td>0.019417</td>\n",
       "      <td>0.037367</td>\n",
       "      <td>0.028249</td>\n",
       "      <td>0.029412</td>\n",
       "    </tr>\n",
       "    <tr>\n",
       "      <th>7</th>\n",
       "      <td>NaN</td>\n",
       "      <td>NaN</td>\n",
       "      <td>NaN</td>\n",
       "      <td>1.000000</td>\n",
       "      <td>0.016393</td>\n",
       "      <td>0.050360</td>\n",
       "      <td>0.031785</td>\n",
       "      <td>0.042200</td>\n",
       "      <td>0.043253</td>\n",
       "      <td>0.036145</td>\n",
       "    </tr>\n",
       "    <tr>\n",
       "      <th>8</th>\n",
       "      <td>NaN</td>\n",
       "      <td>NaN</td>\n",
       "      <td>NaN</td>\n",
       "      <td>NaN</td>\n",
       "      <td>NaN</td>\n",
       "      <td>0.000000</td>\n",
       "      <td>0.023622</td>\n",
       "      <td>0.031542</td>\n",
       "      <td>0.039514</td>\n",
       "      <td>0.062016</td>\n",
       "    </tr>\n",
       "    <tr>\n",
       "      <th>9</th>\n",
       "      <td>NaN</td>\n",
       "      <td>NaN</td>\n",
       "      <td>NaN</td>\n",
       "      <td>NaN</td>\n",
       "      <td>NaN</td>\n",
       "      <td>NaN</td>\n",
       "      <td>NaN</td>\n",
       "      <td>0.041667</td>\n",
       "      <td>0.061709</td>\n",
       "      <td>0.080690</td>\n",
       "    </tr>\n",
       "  </tbody>\n",
       "</table>\n",
       "</div>"
      ],
      "text/plain": [
       "score_cut_cnn         0         1         2         3         4         5  \\\n",
       "score_cut_ann                                                               \n",
       "0              0.001200  0.002972  0.000000  0.004132  0.000000  0.000000   \n",
       "1              0.007617  0.003956  0.006678  0.002865  0.006289  0.000000   \n",
       "2              0.004640  0.005959  0.007444  0.012069  0.015974  0.000000   \n",
       "3              0.028302  0.008869  0.009780  0.011749  0.008865  0.010563   \n",
       "4              0.000000  0.000000  0.009524  0.011796  0.012255  0.016611   \n",
       "5              0.000000  0.000000  0.015038  0.011050  0.016497  0.015234   \n",
       "6                   NaN       NaN  0.000000  0.024096  0.022654  0.015476   \n",
       "7                   NaN       NaN       NaN  1.000000  0.016393  0.050360   \n",
       "8                   NaN       NaN       NaN       NaN       NaN  0.000000   \n",
       "9                   NaN       NaN       NaN       NaN       NaN       NaN   \n",
       "\n",
       "score_cut_cnn         6         7         8         9  \n",
       "score_cut_ann                                          \n",
       "0              0.000000  0.250000       NaN       NaN  \n",
       "1              0.000000  0.000000       NaN       NaN  \n",
       "2              0.000000  0.047619  0.000000       NaN  \n",
       "3              0.000000  0.000000  0.000000  0.000000  \n",
       "4              0.015504  0.026316  0.035714  0.000000  \n",
       "5              0.012841  0.017937  0.031746  0.058824  \n",
       "6              0.019417  0.037367  0.028249  0.029412  \n",
       "7              0.031785  0.042200  0.043253  0.036145  \n",
       "8              0.023622  0.031542  0.039514  0.062016  \n",
       "9                   NaN  0.041667  0.061709  0.080690  "
      ]
     },
     "execution_count": 160,
     "metadata": {},
     "output_type": "execute_result"
    }
   ],
   "source": [
    "two_cuts_bad=y_test_combined.pivot_table(index='score_cut_ann', columns='score_cut_cnn', values='y_ann', \n",
    "                                     aggfunc='mean', dropna=False)\n",
    "two_cuts_bad"
   ]
  },
  {
   "cell_type": "code",
   "execution_count": 161,
   "id": "14b1bd08",
   "metadata": {},
   "outputs": [
    {
     "data": {
      "text/html": [
       "<div>\n",
       "<style scoped>\n",
       "    .dataframe tbody tr th:only-of-type {\n",
       "        vertical-align: middle;\n",
       "    }\n",
       "\n",
       "    .dataframe tbody tr th {\n",
       "        vertical-align: top;\n",
       "    }\n",
       "\n",
       "    .dataframe thead th {\n",
       "        text-align: right;\n",
       "    }\n",
       "</style>\n",
       "<table border=\"1\" class=\"dataframe\">\n",
       "  <thead>\n",
       "    <tr style=\"text-align: right;\">\n",
       "      <th>score_cut_cnn</th>\n",
       "      <th>0</th>\n",
       "      <th>1</th>\n",
       "      <th>2</th>\n",
       "      <th>3</th>\n",
       "      <th>4</th>\n",
       "      <th>5</th>\n",
       "      <th>6</th>\n",
       "      <th>7</th>\n",
       "      <th>8</th>\n",
       "      <th>9</th>\n",
       "    </tr>\n",
       "    <tr>\n",
       "      <th>score_cut_ann</th>\n",
       "      <th></th>\n",
       "      <th></th>\n",
       "      <th></th>\n",
       "      <th></th>\n",
       "      <th></th>\n",
       "      <th></th>\n",
       "      <th></th>\n",
       "      <th></th>\n",
       "      <th></th>\n",
       "      <th></th>\n",
       "    </tr>\n",
       "  </thead>\n",
       "  <tbody>\n",
       "    <tr>\n",
       "      <th>0</th>\n",
       "      <td>1666</td>\n",
       "      <td>673</td>\n",
       "      <td>362</td>\n",
       "      <td>242</td>\n",
       "      <td>136</td>\n",
       "      <td>53</td>\n",
       "      <td>11</td>\n",
       "      <td>4</td>\n",
       "      <td>0</td>\n",
       "      <td>0</td>\n",
       "    </tr>\n",
       "    <tr>\n",
       "      <th>1</th>\n",
       "      <td>919</td>\n",
       "      <td>1011</td>\n",
       "      <td>599</td>\n",
       "      <td>349</td>\n",
       "      <td>159</td>\n",
       "      <td>57</td>\n",
       "      <td>36</td>\n",
       "      <td>16</td>\n",
       "      <td>0</td>\n",
       "      <td>0</td>\n",
       "    </tr>\n",
       "    <tr>\n",
       "      <th>2</th>\n",
       "      <td>431</td>\n",
       "      <td>839</td>\n",
       "      <td>806</td>\n",
       "      <td>580</td>\n",
       "      <td>313</td>\n",
       "      <td>111</td>\n",
       "      <td>39</td>\n",
       "      <td>21</td>\n",
       "      <td>6</td>\n",
       "      <td>0</td>\n",
       "    </tr>\n",
       "    <tr>\n",
       "      <th>3</th>\n",
       "      <td>106</td>\n",
       "      <td>451</td>\n",
       "      <td>818</td>\n",
       "      <td>766</td>\n",
       "      <td>564</td>\n",
       "      <td>284</td>\n",
       "      <td>101</td>\n",
       "      <td>37</td>\n",
       "      <td>17</td>\n",
       "      <td>2</td>\n",
       "    </tr>\n",
       "    <tr>\n",
       "      <th>4</th>\n",
       "      <td>24</td>\n",
       "      <td>155</td>\n",
       "      <td>420</td>\n",
       "      <td>763</td>\n",
       "      <td>816</td>\n",
       "      <td>602</td>\n",
       "      <td>258</td>\n",
       "      <td>76</td>\n",
       "      <td>28</td>\n",
       "      <td>4</td>\n",
       "    </tr>\n",
       "    <tr>\n",
       "      <th>5</th>\n",
       "      <td>1</td>\n",
       "      <td>17</td>\n",
       "      <td>133</td>\n",
       "      <td>362</td>\n",
       "      <td>788</td>\n",
       "      <td>919</td>\n",
       "      <td>623</td>\n",
       "      <td>223</td>\n",
       "      <td>63</td>\n",
       "      <td>17</td>\n",
       "    </tr>\n",
       "    <tr>\n",
       "      <th>6</th>\n",
       "      <td>0</td>\n",
       "      <td>0</td>\n",
       "      <td>8</td>\n",
       "      <td>83</td>\n",
       "      <td>309</td>\n",
       "      <td>840</td>\n",
       "      <td>1133</td>\n",
       "      <td>562</td>\n",
       "      <td>177</td>\n",
       "      <td>34</td>\n",
       "    </tr>\n",
       "    <tr>\n",
       "      <th>7</th>\n",
       "      <td>0</td>\n",
       "      <td>0</td>\n",
       "      <td>0</td>\n",
       "      <td>1</td>\n",
       "      <td>61</td>\n",
       "      <td>278</td>\n",
       "      <td>818</td>\n",
       "      <td>1327</td>\n",
       "      <td>578</td>\n",
       "      <td>83</td>\n",
       "    </tr>\n",
       "    <tr>\n",
       "      <th>8</th>\n",
       "      <td>0</td>\n",
       "      <td>0</td>\n",
       "      <td>0</td>\n",
       "      <td>0</td>\n",
       "      <td>0</td>\n",
       "      <td>2</td>\n",
       "      <td>127</td>\n",
       "      <td>856</td>\n",
       "      <td>1645</td>\n",
       "      <td>516</td>\n",
       "    </tr>\n",
       "    <tr>\n",
       "      <th>9</th>\n",
       "      <td>0</td>\n",
       "      <td>0</td>\n",
       "      <td>0</td>\n",
       "      <td>0</td>\n",
       "      <td>0</td>\n",
       "      <td>0</td>\n",
       "      <td>0</td>\n",
       "      <td>24</td>\n",
       "      <td>632</td>\n",
       "      <td>2491</td>\n",
       "    </tr>\n",
       "  </tbody>\n",
       "</table>\n",
       "</div>"
      ],
      "text/plain": [
       "score_cut_cnn     0     1    2    3    4    5     6     7     8     9\n",
       "score_cut_ann                                                        \n",
       "0              1666   673  362  242  136   53    11     4     0     0\n",
       "1               919  1011  599  349  159   57    36    16     0     0\n",
       "2               431   839  806  580  313  111    39    21     6     0\n",
       "3               106   451  818  766  564  284   101    37    17     2\n",
       "4                24   155  420  763  816  602   258    76    28     4\n",
       "5                 1    17  133  362  788  919   623   223    63    17\n",
       "6                 0     0    8   83  309  840  1133   562   177    34\n",
       "7                 0     0    0    1   61  278   818  1327   578    83\n",
       "8                 0     0    0    0    0    2   127   856  1645   516\n",
       "9                 0     0    0    0    0    0     0    24   632  2491"
      ]
     },
     "execution_count": 161,
     "metadata": {},
     "output_type": "execute_result"
    }
   ],
   "source": [
    "two_cuts_count=y_test_combined.pivot_table(index='score_cut_ann', columns='score_cut_cnn', values='y_ann', \n",
    "                                     aggfunc='count', dropna=False)\n",
    "two_cuts_count"
   ]
  },
  {
   "cell_type": "code",
   "execution_count": 162,
   "id": "23fcf050",
   "metadata": {},
   "outputs": [
    {
     "data": {
      "text/plain": [
       "Text(69.0, 0.5, 'CNN Score')"
      ]
     },
     "execution_count": 162,
     "metadata": {},
     "output_type": "execute_result"
    },
    {
     "data": {
      "image/png": "[encoded data removed]",
      "text/plain": [
       "<Figure size 720x576 with 2 Axes>"
      ]
     },
     "metadata": {
      "needs_background": "light"
     },
     "output_type": "display_data"
    }
   ],
   "source": [
    "fig=plt.figure(figsize=(10, 8))\n",
    "ax=plt.axes()\n",
    "sns.heatmap(two_cuts_bad, cmap='coolwarm', fmt=\".2f\", vmin=0, vmax=0.9, linewidths=2, linecolor='yellow',\n",
    "            annot=True, annot_kws={\"size\": 9}).invert_yaxis()\n",
    "ax.set_title(\"Combine Two Scores\", fontsize=20)\n",
    "ax.set_xlabel('ANN Score', fontsize=15)\n",
    "ax.set_ylabel('CNN Score', fontsize=15)"
   ]
  },
  {
   "cell_type": "code",
   "execution_count": 163,
   "id": "a07da3ad",
   "metadata": {},
   "outputs": [
    {
     "data": {
      "text/plain": [
       "Text(69.0, 0.5, 'CNN Score')"
      ]
     },
     "execution_count": 163,
     "metadata": {},
     "output_type": "execute_result"
    },
    {
     "data": {
      "image/png": "[encoded data removed]",
      "text/plain": [
       "<Figure size 720x576 with 2 Axes>"
      ]
     },
     "metadata": {
      "needs_background": "light"
     },
     "output_type": "display_data"
    }
   ],
   "source": [
    "fig=plt.figure(figsize=(10, 8))\n",
    "ax=plt.axes()\n",
    "sns.heatmap(two_cuts_count, cmap='Greens', fmt=\".2f\", vmin=0, vmax=2500, linewidths=2, linecolor='yellow',\n",
    "            annot=True, annot_kws={\"size\": 9}).invert_yaxis()\n",
    "ax.set_title(\"Combine Two Scores\", fontsize=20)\n",
    "ax.set_xlabel('ANN Score', fontsize=15)\n",
    "ax.set_ylabel('CNN Score', fontsize=15)"
   ]
  },
  {
   "cell_type": "markdown",
   "id": "5380b571",
   "metadata": {},
   "source": [
    "#### composite score - approach 1"
   ]
  },
  {
   "cell_type": "code",
   "execution_count": 165,
   "id": "05c1c4ca",
   "metadata": {},
   "outputs": [],
   "source": [
    "y_test_combined['composite_score']=np.sqrt(y_test_combined['y_pred_ann']*y_test_combined['y_pred_cnn'])"
   ]
  },
  {
   "cell_type": "code",
   "execution_count": 166,
   "id": "f1efaa12",
   "metadata": {},
   "outputs": [
    {
     "name": "stderr",
     "output_type": "stream",
     "text": [
      "C:\\Users\\aleci\\anaconda3\\lib\\site-packages\\seaborn\\_decorators.py:36: FutureWarning: Pass the following variables as keyword args: x, y. From version 0.12, the only valid positional argument will be `data`, and passing other arguments without an explicit keyword will result in an error or misinterpretation.\n",
      "  warnings.warn(\n"
     ]
    },
    {
     "data": {
      "text/plain": [
       "<AxesSubplot:xlabel='score_cut', ylabel='y_ann'>"
      ]
     },
     "execution_count": 166,
     "metadata": {},
     "output_type": "execute_result"
    },
    {
     "data": {
      "image/png": "[encoded data removed]",
      "text/plain": [
       "<Figure size 864x360 with 1 Axes>"
      ]
     },
     "metadata": {
      "needs_background": "light"
     },
     "output_type": "display_data"
    }
   ],
   "source": [
    "num_bins=10\n",
    "\n",
    "binlabels=list(range(0, num_bins))\n",
    "\n",
    "y_test_combined['score_cut']=pd.qcut(y_test_combined['composite_score'], q=num_bins, labels=binlabels)\n",
    "\n",
    "fig=plt.figure(figsize=(12, 5))\n",
    "\n",
    "y_test_combined=y_test_combined.groupby('score_cut')[['composite_score', 'y_ann']].mean().reset_index()\n",
    "y_test_combined['score_cut']=y_test_combined['score_cut'].astype(int)\n",
    "y_test_combined['score_cut']=num_bins-y_test_combined['score_cut']\n",
    "\n",
    "sns.barplot(y_test_combined['score_cut'], y_test_combined['y_ann'])"
   ]
  },
  {
   "cell_type": "code",
   "execution_count": 167,
   "id": "e4c85b45",
   "metadata": {},
   "outputs": [
    {
     "data": {
      "text/plain": [
       "Text(0, 0.5, 'Predicted/Actual')"
      ]
     },
     "execution_count": 167,
     "metadata": {},
     "output_type": "execute_result"
    },
    {
     "data": {
      "image/png": "[encoded data removed]",
      "text/plain": [
       "<Figure size 432x360 with 1 Axes>"
      ]
     },
     "metadata": {
      "needs_background": "light"
     },
     "output_type": "display_data"
    }
   ],
   "source": [
    "fig, ax=plt.subplots(1, 1, figsize=(6, 5))\n",
    "\n",
    "ax.plot(y_test_combined['score_cut'], y_test_combined['composite_score'], label='Predicted', color='red')\n",
    "ax.plot(y_test_combined['score_cut'], y_test_combined['y_ann'], label='Actual', color='blue')\n",
    "ax.set_title('Predicted vs Actual')\n",
    "ax.legend(loc='upper right')\n",
    "ax.set_xlabel('Score Bin')\n",
    "ax.set_ylabel('Predicted/Actual')"
   ]
  },
  {
   "cell_type": "markdown",
   "id": "48e2275c",
   "metadata": {},
   "source": [
    "#### composite score - approach 2"
   ]
  },
  {
   "cell_type": "code",
   "execution_count": 170,
   "id": "d9eefb14",
   "metadata": {},
   "outputs": [],
   "source": [
    "y_test_combined=pd.concat([y_test_df_ann.rename(columns={'y':'y_ann', 'y_pred': 'y_pred_ann', 'score_cut':'score_cut_ann'}),\n",
    "                          y_test_df_cnn.rename(columns={'y':'y_cnn', 'y_pred': 'y_pred_cnn', 'score_cut':'score_cut_cnn'})],\n",
    "                         axis=1)\n",
    "\n",
    "y_test_combined['composite_score']=(y_test_combined['y_pred_ann']+y_test_combined['y_pred_cnn'])/2"
   ]
  },
  {
   "cell_type": "code",
   "execution_count": 171,
   "id": "27dc85c5",
   "metadata": {},
   "outputs": [
    {
     "name": "stdout",
     "output_type": "stream",
     "text": [
      "<class 'pandas.core.frame.DataFrame'>\n",
      "RangeIndex: 31462 entries, 0 to 31461\n",
      "Data columns (total 7 columns):\n",
      " #   Column           Non-Null Count  Dtype   \n",
      "---  ------           --------------  -----   \n",
      " 0   y_ann            31462 non-null  int32   \n",
      " 1   y_pred_ann       31462 non-null  float32 \n",
      " 2   score_cut_ann    31462 non-null  category\n",
      " 3   y_cnn            31462 non-null  int32   \n",
      " 4   y_pred_cnn       31462 non-null  float32 \n",
      " 5   score_cut_cnn    31462 non-null  category\n",
      " 6   composite_score  31462 non-null  float32 \n",
      "dtypes: category(2), float32(3), int32(2)\n",
      "memory usage: 676.8 KB\n"
     ]
    }
   ],
   "source": [
    "y_test_combined.info()"
   ]
  },
  {
   "cell_type": "code",
   "execution_count": 172,
   "id": "e2c1bea5",
   "metadata": {},
   "outputs": [
    {
     "name": "stderr",
     "output_type": "stream",
     "text": [
      "C:\\Users\\aleci\\anaconda3\\lib\\site-packages\\seaborn\\_decorators.py:36: FutureWarning: Pass the following variables as keyword args: x, y. From version 0.12, the only valid positional argument will be `data`, and passing other arguments without an explicit keyword will result in an error or misinterpretation.\n",
      "  warnings.warn(\n"
     ]
    },
    {
     "data": {
      "text/plain": [
       "<AxesSubplot:xlabel='score_cut', ylabel='y_ann'>"
      ]
     },
     "execution_count": 172,
     "metadata": {},
     "output_type": "execute_result"
    },
    {
     "data": {
      "image/png": "[encoded data removed]",
      "text/plain": [
       "<Figure size 864x360 with 1 Axes>"
      ]
     },
     "metadata": {
      "needs_background": "light"
     },
     "output_type": "display_data"
    }
   ],
   "source": [
    "num_bins=10\n",
    "\n",
    "binlabels=list(range(0, num_bins))\n",
    "\n",
    "y_test_combined['score_cut']=pd.qcut(y_test_combined['composite_score'], q=num_bins, labels=binlabels)\n",
    "\n",
    "fig=plt.figure(figsize=(12, 5))\n",
    "\n",
    "y_test_combined=y_test_combined.groupby('score_cut')[['composite_score', 'y_ann']].mean().reset_index()\n",
    "y_test_combined['score_cut']=y_test_combined['score_cut'].astype(int)\n",
    "y_test_combined['score_cut']=num_bins-y_test_combined['score_cut']\n",
    "\n",
    "sns.barplot(y_test_combined['score_cut'], y_test_combined['y_ann'])"
   ]
  },
  {
   "cell_type": "code",
   "execution_count": 173,
   "id": "cb225b1c",
   "metadata": {},
   "outputs": [
    {
     "data": {
      "text/plain": [
       "Text(0, 0.5, 'Predicted/Actual')"
      ]
     },
     "execution_count": 173,
     "metadata": {},
     "output_type": "execute_result"
    },
    {
     "data": {
      "image/png": "[encoded data removed]",
      "text/plain": [
       "<Figure size 432x360 with 1 Axes>"
      ]
     },
     "metadata": {
      "needs_background": "light"
     },
     "output_type": "display_data"
    }
   ],
   "source": [
    "fig, ax=plt.subplots(1, 1, figsize=(6, 5))\n",
    "\n",
    "ax.plot(y_test_combined['score_cut'], y_test_combined['composite_score'], label='Predicted', color='red')\n",
    "ax.plot(y_test_combined['score_cut'], y_test_combined['y_ann'], label='Actual', color='blue')\n",
    "ax.set_title('Predicted vs Actual')\n",
    "ax.legend(loc='upper right')\n",
    "ax.set_xlabel('Score Bin')\n",
    "ax.set_ylabel('Predicted/Actual')"
   ]
  },
  {
   "cell_type": "markdown",
   "id": "f17ccff1",
   "metadata": {},
   "source": [
    "### Summary\n",
    "\n",
    "The CNN model outperformed the ANN, with an 88% accuracy and an AUC-ROC of 0.92 compared to the ANN’s 85% accuracy and 0.89 AUC-ROC. While CNN’s complex layers capture data relationships more effectively, ANN remains simpler and easier to interpret.\n",
    "\n",
    "Overall, the CNN model is the better choice for mortgage prediction, but ANN may still be useful where interpretability is key. Future improvements could include ensemble methods to combine strengths from both models."
   ]
  }
 ],
 "metadata": {
  "kernelspec": {
   "display_name": "Python 3 (ipykernel)",
   "language": "python",
   "name": "python3"
  },
  "language_info": {
   "codemirror_mode": {
    "name": "ipython",
    "version": 3
   },
   "file_extension": ".py",
   "mimetype": "text/x-python",
   "name": "python",
   "nbconvert_exporter": "python",
   "pygments_lexer": "ipython3",
   "version": "3.11.5"
  }
 },
 "nbformat": 4,
 "nbformat_minor": 5
}
